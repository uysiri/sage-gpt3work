{
 "cells": [
  {
   "cell_type": "code",
   "execution_count": 1,
   "id": "237f78e9-4014-460c-9574-c38ef36cb9c9",
   "metadata": {
    "tags": []
   },
   "outputs": [],
   "source": [
    "# load libraries\n",
    "import openai\n",
    "import os\n",
    "import config\n",
    "import pandas as pd\n",
    "import numpy as np\n",
    "import texthero as hero"
   ]
  },
  {
   "cell_type": "code",
   "execution_count": 11,
   "id": "ad71ae00-6a80-492a-b831-981a6292ffaf",
   "metadata": {
    "tags": []
   },
   "outputs": [],
   "source": [
    "# openai.api_key = os.getenv(\"OPENAI_API_KEY\")\n",
    "openai.api_key = config.api_key"
   ]
  },
  {
   "cell_type": "markdown",
   "id": "19b01e82-2054-45b6-b7b2-3685783b0281",
   "metadata": {},
   "source": [
    "### Build Custom Profile for Clients "
   ]
  },
  {
   "cell_type": "code",
   "execution_count": 53,
   "id": "e5aedccf-1dc8-46c2-8628-218915a31294",
   "metadata": {
    "tags": []
   },
   "outputs": [],
   "source": [
    "clientnames = ['PS Post', 'Brute Force', 'Sage SEO', 'Savimbo', 'Smootch', 'TBJ Gourmet', 'M Aerospace', 'Indigo Organizing', 'Ewedded', 'Clairant', 'Rainplan', 'Oarscanning', 'SeaTak', 'Pavr', 'Driveway', 'Zagoda', 'Jane Draws Plans', 'ETS Works', 'Your Color Guru', 'Pivotal Solutions', 'Divine Guitar Lessons', 'Ecomap', 'Graphite GTC', 'Sputnik ATX', 'Eat Omega3', 'Gray Scalable']"
   ]
  },
  {
   "cell_type": "code",
   "execution_count": 88,
   "id": "d07a022e-1cd7-40f1-93d8-f85b364cf426",
   "metadata": {
    "tags": []
   },
   "outputs": [
    {
     "data": {
      "text/plain": [
       "28"
      ]
     },
     "execution_count": 88,
     "metadata": {},
     "output_type": "execute_result"
    }
   ],
   "source": [
    "len(clientnames)"
   ]
  },
  {
   "cell_type": "markdown",
   "id": "2155f58d-d08a-46e5-a8be-02a9229e3135",
   "metadata": {},
   "source": [
    "## STEP 1A\n",
    "- Read in Client Data\n",
    "    - Input: scraped content from client's site\n",
    "    - Add: client name to each article row\n",
    "    - Add: new column 'client' with client name \n",
    "    \n",
    "- Flow: as we go we would read in/process each client individually but to make things quicker here I've concatenated some of the dataframes together"
   ]
  },
  {
   "cell_type": "code",
   "execution_count": 14,
   "id": "9a127136-5afc-45a0-9bbc-7ed313d08e24",
   "metadata": {},
   "outputs": [
    {
     "data": {
      "text/html": [
       "<div>\n",
       "<style scoped>\n",
       "    .dataframe tbody tr th:only-of-type {\n",
       "        vertical-align: middle;\n",
       "    }\n",
       "\n",
       "    .dataframe tbody tr th {\n",
       "        vertical-align: top;\n",
       "    }\n",
       "\n",
       "    .dataframe thead th {\n",
       "        text-align: right;\n",
       "    }\n",
       "</style>\n",
       "<table border=\"1\" class=\"dataframe\">\n",
       "  <thead>\n",
       "    <tr style=\"text-align: right;\">\n",
       "      <th></th>\n",
       "      <th>Unnamed: 0</th>\n",
       "      <th>url</th>\n",
       "      <th>article</th>\n",
       "      <th>client</th>\n",
       "    </tr>\n",
       "  </thead>\n",
       "  <tbody>\n",
       "    <tr>\n",
       "      <th>0</th>\n",
       "      <td>0.0</td>\n",
       "      <td>https://pspost.co</td>\n",
       "      <td>PSPOST Mail a personal card, no matter where y...</td>\n",
       "      <td>PSPOST</td>\n",
       "    </tr>\n",
       "    <tr>\n",
       "      <th>1</th>\n",
       "      <td>1.0</td>\n",
       "      <td>https://pspost.co/3-examples-of-what-to-write-...</td>\n",
       "      <td>PSPOST With every spring comes warmer weather ...</td>\n",
       "      <td>PSPOST</td>\n",
       "    </tr>\n",
       "    <tr>\n",
       "      <th>2</th>\n",
       "      <td>2.0</td>\n",
       "      <td>https://pspost.co/3-ways-that-giving-a-gift-is...</td>\n",
       "      <td>PSPOST Who doesn’t love the experience of open...</td>\n",
       "      <td>PSPOST</td>\n",
       "    </tr>\n",
       "    <tr>\n",
       "      <th>3</th>\n",
       "      <td>3.0</td>\n",
       "      <td>https://pspost.co/about/</td>\n",
       "      <td>PSPOST We exist to make personal connection ea...</td>\n",
       "      <td>PSPOST</td>\n",
       "    </tr>\n",
       "    <tr>\n",
       "      <th>4</th>\n",
       "      <td>4.0</td>\n",
       "      <td>https://pspost.co/appreciation/</td>\n",
       "      <td>PSPOST Appreciation, Friendship, Graduations, ...</td>\n",
       "      <td>PSPOST</td>\n",
       "    </tr>\n",
       "  </tbody>\n",
       "</table>\n",
       "</div>"
      ],
      "text/plain": [
       "   Unnamed: 0                                                url  \\\n",
       "0         0.0                                  https://pspost.co   \n",
       "1         1.0  https://pspost.co/3-examples-of-what-to-write-...   \n",
       "2         2.0  https://pspost.co/3-ways-that-giving-a-gift-is...   \n",
       "3         3.0                           https://pspost.co/about/   \n",
       "4         4.0                    https://pspost.co/appreciation/   \n",
       "\n",
       "                                             article  client  \n",
       "0  PSPOST Mail a personal card, no matter where y...  PSPOST  \n",
       "1  PSPOST With every spring comes warmer weather ...  PSPOST  \n",
       "2  PSPOST Who doesn’t love the experience of open...  PSPOST  \n",
       "3  PSPOST We exist to make personal connection ea...  PSPOST  \n",
       "4  PSPOST Appreciation, Friendship, Graduations, ...  PSPOST  "
      ]
     },
     "execution_count": 14,
     "metadata": {},
     "output_type": "execute_result"
    }
   ],
   "source": [
    "# read in data\n",
    "# from PS Post and Brute Force\n",
    "\n",
    "df = pd.read_csv(\"2023-2-6-PSPOST.csv\")\n",
    "df_1 = pd.read_csv(\"bruteforce_testscrape.csv\")\n",
    "df_2 = pd.read_csv(\"2023-2-15-sageseo.csv\")\n",
    "df_3 = pd.read_csv(\"2023-2-14-savimbo.csv\")\n",
    "\n",
    "# add the name of client into each piece of content\n",
    "# just in case \n",
    "\n",
    "df['article'] = df.article.apply(lambda s: 'PSPOST '+s)\n",
    "df_1['article'] = df_1.article.apply(lambda s: 'BruteForce '+s)\n",
    "df_2['article'] = df_2.article.apply(lambda s: 'SageSEO '+s)\n",
    "df_3['article'] = df_3.article.apply(lambda s: 'Savimbo '+s)\n",
    "\n",
    "# also create another column for client name\n",
    "df['client'] = 'PSPOST'\n",
    "df_1['client'] = 'BruteForce'\n",
    "df_2['client'] = 'SageSEO'\n",
    "df_3['client'] = 'Savimbo'\n",
    "\n",
    "# merge into one df\n",
    "dfc = pd.concat([df, df_1, df_2, df_3])\n",
    "\n",
    "dfc.head(5)"
   ]
  },
  {
   "cell_type": "code",
   "execution_count": 17,
   "id": "4f0be990-549c-4a27-bc48-11cca9e0eef0",
   "metadata": {
    "tags": []
   },
   "outputs": [],
   "source": [
    "# repeat \n",
    "ds = pd.read_csv(\"drinksmootch.csv\")\n",
    "tbj = pd.read_csv(\"tbjgourmet.csv\")\n",
    "\n",
    "\n",
    "ds['article'] = ds.article.apply(lambda s: 'DrinkSmootch '+s)\n",
    "tbj['article'] = tbj.article.apply(lambda s: 'TBJGourmet '+s)\n",
    "\n",
    "ds['client'] = 'DrinkSmootch'\n",
    "tbj['client'] = 'TBJGourmet'\n",
    "\n",
    "dstbj = pd.concat([ds, tbj])"
   ]
  },
  {
   "cell_type": "code",
   "execution_count": 18,
   "id": "75bf85f3-9b9e-493c-a402-18bfc1d7d92e",
   "metadata": {
    "tags": []
   },
   "outputs": [],
   "source": [
    "maero = pd.read_csv(\"maerospacertc.csv\")\n",
    "indo = pd.read_csv(\"indigoorganizing.csv\")\n",
    "ewed = pd.read_csv(\"ewedded.csv\")\n",
    "\n",
    "maero['article'] = maero.article.apply(lambda s: 'MAerospaceRTC '+s)\n",
    "indo['article'] = indo.article.apply(lambda s: 'IndigoOrganizing '+s)\n",
    "ewed['article'] = ewed.article.apply(lambda s: 'Ewedded '+s)\n",
    "\n",
    "maero['client'] = 'MAerospaceRTC'\n",
    "indo['client'] = 'IndigoOrganizing'\n",
    "ewed['client'] = 'Ewedded'\n",
    "\n",
    "mie = pd.concat([maero, indo, ewed])"
   ]
  },
  {
   "cell_type": "code",
   "execution_count": 19,
   "id": "47daa8a4-0ddf-485c-baad-1b964bbc5327",
   "metadata": {
    "tags": []
   },
   "outputs": [],
   "source": [
    "propsk = pd.read_csv(\"propersky.csv\")\n",
    "mlad = pd.read_csv(\"meetladder.csv\")\n",
    "\n",
    "propsk['article'] = propsk.article.apply(lambda s: 'ProperSky '+s)\n",
    "mlad['article'] = mlad.article.apply(lambda s: 'MeetLadder '+s)\n",
    "\n",
    "propsk['client'] = 'ProperSky'\n",
    "mlad['client'] = 'MeetLadder'"
   ]
  },
  {
   "cell_type": "code",
   "execution_count": 21,
   "id": "dfb9b3c6-08be-4db3-96e4-52db7c29bafc",
   "metadata": {
    "tags": []
   },
   "outputs": [],
   "source": [
    "clairant = pd.read_csv(\"clairant.csv\")\n",
    "\n",
    "clairant['article'] = clairant.article.apply(lambda s: 'Clairant '+s)\n",
    "\n",
    "clairant['client'] = 'Clairant'"
   ]
  },
  {
   "cell_type": "code",
   "execution_count": 23,
   "id": "c317f5fc-9eda-4f18-bbc8-ddf0e4cf5ef7",
   "metadata": {
    "tags": []
   },
   "outputs": [],
   "source": [
    "rainplan = pd.read_csv(\"rainplan_tm.csv\")\n",
    "oarscan = pd.read_csv(\"oarscanning.csv\")\n",
    "seatak = pd.read_csv(\"seatak.csv\")\n",
    "\n",
    "rainplan['article'] = rainplan.article.apply(lambda s: 'Rainplan '+s)\n",
    "oarscan['article'] = oarscan.article.apply(lambda s: 'Oarscanning '+s)\n",
    "seatak['article'] = seatak.article.apply(lambda s: 'SeaTak '+s)\n",
    "\n",
    "oarscan['client'] = 'Oarscanning'\n",
    "seatak['client'] = 'SeaTak'\n",
    "rainplan['client'] = 'Rainplan'\n",
    "\n",
    "oartakrp = pd.concat([seatak, oarscan, rainplan])"
   ]
  },
  {
   "cell_type": "code",
   "execution_count": 24,
   "id": "dfa2b7f1-457f-4d3c-a48c-ff01332726d0",
   "metadata": {
    "tags": []
   },
   "outputs": [],
   "source": [
    "pavr = pd.read_csv(\"getpavr.csv\")\n",
    "driveway = pd.read_csv(\"driveway.csv\")\n",
    "zagoda = pd.read_csv(\"zagoda.csv\")\n",
    "janedraws = pd.read_csv(\"janedraws.csv\")\n",
    "\n",
    "pavr['article'] = pavr.article.apply(lambda s: 'Get Pavr '+s)\n",
    "driveway['article'] = driveway.article.apply(lambda s: 'Driveway App '+s)\n",
    "zagoda['article'] = zagoda.article.apply(lambda s: 'Zagoda '+s)\n",
    "janedraws['article'] = janedraws.article.apply(lambda s: 'Jane Draws Plans '+s)\n",
    "\n",
    "pavr['client'] = 'GetPavr'\n",
    "driveway['client'] = 'Driveway App'\n",
    "zagoda['client'] = 'Zagoda'\n",
    "janedraws['client'] = 'Jane Draws Plans'\n",
    "\n",
    "pdzj = pd.concat([pavr,driveway,zagoda,janedraws])"
   ]
  },
  {
   "cell_type": "code",
   "execution_count": 25,
   "id": "b9f3e61a-e7c7-466d-b60b-061511dbd0c7",
   "metadata": {
    "tags": []
   },
   "outputs": [],
   "source": [
    "ets = pd.read_csv(\"etsworks.csv\")\n",
    "colorguru = pd.read_csv(\"yourcolorguru.csv\")\n",
    "\n",
    "ets['article'] = ets.article.apply(lambda s: 'ETS Works '+s)\n",
    "colorguru['article'] = colorguru.article.apply(lambda s: 'Your Color Guru '+s)\n",
    "\n",
    "ets['client'] = 'ETS Works'\n",
    "colorguru['client'] = 'Your Color Guru'\n",
    "\n",
    "etscolor = pd.concat([ets,colorguru])"
   ]
  },
  {
   "cell_type": "code",
   "execution_count": 26,
   "id": "12b5516c-8fba-44fb-a0e7-a9ccbfd87346",
   "metadata": {
    "tags": []
   },
   "outputs": [],
   "source": [
    "piv = pd.read_csv(\"pivotal.csv\")\n",
    "divine = pd.read_csv(\"divine.csv\")\n",
    "ecomap = pd.read_csv(\"ecomap.csv\")\n",
    "\n",
    "piv['article'] = piv.article.apply(lambda s: 'Pivotal Solutions '+s)\n",
    "divine['article'] = divine.article.apply(lambda s: 'Divine Guitar Lessons '+s)\n",
    "ecomap['article'] = ecomap.article.apply(lambda s: 'Ecomap '+s)\n",
    "\n",
    "piv['client'] = 'Pivotal Solutions'\n",
    "divine['client'] = 'Divine Guitar Lessons'\n",
    "ecomap['client'] = 'Ecomap'\n",
    "\n",
    "pde = pd.concat([piv,divine,ecomap])"
   ]
  },
  {
   "cell_type": "code",
   "execution_count": 27,
   "id": "ab2f53d2-8eb1-4225-aeb0-8c3fac8a86a2",
   "metadata": {
    "tags": []
   },
   "outputs": [],
   "source": [
    "sputnik = pd.read_csv(\"sputnik.csv\")\n",
    "graphite = pd.read_csv(\"graphite.csv\")\n",
    "\n",
    "sputnik['article'] = sputnik.article.apply(lambda s: 'Sputnik ATX '+s)\n",
    "graphite['article'] = graphite.article.apply(lambda s: 'Graphite GTC '+s)\n",
    "\n",
    "sputnik['client'] = 'Sputnik ATX'\n",
    "graphite['client'] = 'Graphite GTC'\n",
    "\n",
    "sg = pd.concat([sputnik,graphite])"
   ]
  },
  {
   "cell_type": "code",
   "execution_count": 28,
   "id": "4ded5ef4-bebb-4065-a8bd-ca834a97109a",
   "metadata": {
    "tags": []
   },
   "outputs": [],
   "source": [
    "omega = pd.read_csv(\"omega3.csv\")\n",
    "sampoll = pd.read_csv(\"sampoll.csv\")\n",
    "grayscalable = pd.read_csv(\"grayscalable.csv\")\n",
    "\n",
    "omega['article'] = omega.article.apply(lambda s: 'Eat Omega3 '+s)\n",
    "sampoll['article'] = sampoll.article.apply(lambda s: 'Sampoll '+s)\n",
    "grayscalable['article'] = grayscalable.article.apply(lambda s: 'Grey Scalable '+s)\n",
    "\n",
    "omega['client'] = 'Eat Omega3'\n",
    "sampoll['client'] = 'Sampoll'\n",
    "grayscalable['client'] = 'Gray Scalable'\n",
    "\n",
    "oms = pd.concat([omega,sampoll,grayscalable])"
   ]
  },
  {
   "cell_type": "code",
   "execution_count": 29,
   "id": "b405e013-36b2-4595-8d9b-1936315154b3",
   "metadata": {
    "tags": []
   },
   "outputs": [],
   "source": [
    "yoro = pd.read_csv(\"yoro.csv\")\n",
    "wc = pd.read_csv(\"wc3.csv\")\n",
    "\n",
    "yoro['article'] = yoro.article.apply(lambda s: 'Yoro '+s)\n",
    "wc['article'] = wc.article.apply(lambda s: 'WC3 '+s)\n",
    "\n",
    "yoro['client'] = 'Yoro'\n",
    "wc['client'] = 'WC3'\n",
    "yowc = pd.concat([yoro,wc])"
   ]
  },
  {
   "cell_type": "markdown",
   "id": "0114b9df-5763-4092-a1b4-308630774b7d",
   "metadata": {},
   "source": [
    "## STEP 1B\n",
    "- Input: tokenize articles in df\n",
    "    - Add: new column 'tokens' with number of tokens (words) for article in row"
   ]
  },
  {
   "cell_type": "code",
   "execution_count": 31,
   "id": "80f91123-b7a1-4f89-8934-62928ae88caa",
   "metadata": {
    "tags": []
   },
   "outputs": [],
   "source": [
    "def get_tokens(df):\n",
    "    \"\"\"\n",
    "    Tokenize the article content and return\n",
    "    the count of the number of tokens as \n",
    "    new column 'tokens'\n",
    "    \"\"\"\n",
    "    df['token'] = hero.tokenize(df['article'])\n",
    "    tokens = []\n",
    "    for idx, row in df.iterrows():\n",
    "        tokens.append(len(row['token']))\n",
    "    df['tokens'] = tokens\n",
    "    return df"
   ]
  },
  {
   "cell_type": "code",
   "execution_count": 34,
   "id": "7deb408f-480b-4dcc-a3ce-37de21aa99c6",
   "metadata": {
    "collapsed": true,
    "jupyter": {
     "outputs_hidden": true
    },
    "tags": []
   },
   "outputs": [
    {
     "data": {
      "text/html": [
       "<div>\n",
       "<style scoped>\n",
       "    .dataframe tbody tr th:only-of-type {\n",
       "        vertical-align: middle;\n",
       "    }\n",
       "\n",
       "    .dataframe tbody tr th {\n",
       "        vertical-align: top;\n",
       "    }\n",
       "\n",
       "    .dataframe thead th {\n",
       "        text-align: right;\n",
       "    }\n",
       "</style>\n",
       "<table border=\"1\" class=\"dataframe\">\n",
       "  <thead>\n",
       "    <tr style=\"text-align: right;\">\n",
       "      <th></th>\n",
       "      <th>Unnamed: 0</th>\n",
       "      <th>url</th>\n",
       "      <th>article</th>\n",
       "      <th>client</th>\n",
       "      <th>token</th>\n",
       "      <th>tokens</th>\n",
       "    </tr>\n",
       "  </thead>\n",
       "  <tbody>\n",
       "    <tr>\n",
       "      <th>0</th>\n",
       "      <td>0</td>\n",
       "      <td>https://eatomega3.com</td>\n",
       "      <td>Eat Omega3 - QUALITY INGREDIENTS FOR YOUR BRAI...</td>\n",
       "      <td>Eat Omega3</td>\n",
       "      <td>[Eat, Omega3, -, QUALITY, INGREDIENTS, FOR, YO...</td>\n",
       "      <td>101</td>\n",
       "    </tr>\n",
       "    <tr>\n",
       "      <th>1</th>\n",
       "      <td>1</td>\n",
       "      <td>https://eatomega3.com/blogs/news</td>\n",
       "      <td>Eat Omega3 How To Set a New Year's Resolution ...</td>\n",
       "      <td>Eat Omega3</td>\n",
       "      <td>[Eat, Omega3, How, To, Set, a, New, Year's, Re...</td>\n",
       "      <td>15</td>\n",
       "    </tr>\n",
       "    <tr>\n",
       "      <th>2</th>\n",
       "      <td>2</td>\n",
       "      <td>https://eatomega3.com/blogs/news/10-tips-for-s...</td>\n",
       "      <td>Eat Omega3 10 Tips for Starting a Self-Care Ro...</td>\n",
       "      <td>Eat Omega3</td>\n",
       "      <td>[Eat, Omega3, 10, Tips, for, Starting, a, Self...</td>\n",
       "      <td>1193</td>\n",
       "    </tr>\n",
       "    <tr>\n",
       "      <th>3</th>\n",
       "      <td>3</td>\n",
       "      <td>https://eatomega3.com/blogs/news/5-holiday-gif...</td>\n",
       "      <td>Eat Omega3 5 Holiday Gift Ideas for Brain Heal...</td>\n",
       "      <td>Eat Omega3</td>\n",
       "      <td>[Eat, Omega3, 5, Holiday, Gift, Ideas, for, Br...</td>\n",
       "      <td>792</td>\n",
       "    </tr>\n",
       "    <tr>\n",
       "      <th>4</th>\n",
       "      <td>4</td>\n",
       "      <td>https://eatomega3.com/blogs/news/50-journal-pr...</td>\n",
       "      <td>Eat Omega3 50 Journal Prompts to Help You Star...</td>\n",
       "      <td>Eat Omega3</td>\n",
       "      <td>[Eat, Omega3, 50, Journal, Prompts, to, Help, ...</td>\n",
       "      <td>1130</td>\n",
       "    </tr>\n",
       "    <tr>\n",
       "      <th>...</th>\n",
       "      <td>...</td>\n",
       "      <td>...</td>\n",
       "      <td>...</td>\n",
       "      <td>...</td>\n",
       "      <td>...</td>\n",
       "      <td>...</td>\n",
       "    </tr>\n",
       "    <tr>\n",
       "      <th>128</th>\n",
       "      <td>128</td>\n",
       "      <td>https://www.grayscalable.com/technical-recruiting</td>\n",
       "      <td>Grey Scalable Technical Recruiting\\nRecruiting...</td>\n",
       "      <td>Gray Scalable</td>\n",
       "      <td>[Grey, Scalable, Technical, Recruiting, Recrui...</td>\n",
       "      <td>1080</td>\n",
       "    </tr>\n",
       "    <tr>\n",
       "      <th>129</th>\n",
       "      <td>129</td>\n",
       "      <td>https://www.grayscalable.com/terms-and-conditions</td>\n",
       "      <td>Grey Scalable Terms &amp; Conditions\\nUpdated Marc...</td>\n",
       "      <td>Gray Scalable</td>\n",
       "      <td>[Grey, Scalable, Terms, &amp;, Conditions, Updated...</td>\n",
       "      <td>2593</td>\n",
       "    </tr>\n",
       "    <tr>\n",
       "      <th>130</th>\n",
       "      <td>130</td>\n",
       "      <td>https://www.grayscalable.com/testimonials</td>\n",
       "      <td>Grey Scalable Testimonials\\nThe world's leadin...</td>\n",
       "      <td>Gray Scalable</td>\n",
       "      <td>[Grey, Scalable, Testimonials, The, world's, l...</td>\n",
       "      <td>3052</td>\n",
       "    </tr>\n",
       "    <tr>\n",
       "      <th>131</th>\n",
       "      <td>131</td>\n",
       "      <td>https://www.grayscalable.com/transition-services</td>\n",
       "      <td>Grey Scalable Support Employees.\\nGive them th...</td>\n",
       "      <td>Gray Scalable</td>\n",
       "      <td>[Grey, Scalable, Support, Employees, ., Give, ...</td>\n",
       "      <td>145</td>\n",
       "    </tr>\n",
       "    <tr>\n",
       "      <th>132</th>\n",
       "      <td>132</td>\n",
       "      <td>https://www.grayscalable.com/workshops-trainings</td>\n",
       "      <td>Grey Scalable Train Your Team.\\nBuild your tea...</td>\n",
       "      <td>Gray Scalable</td>\n",
       "      <td>[Grey, Scalable, Train, Your, Team, ., Build, ...</td>\n",
       "      <td>272</td>\n",
       "    </tr>\n",
       "  </tbody>\n",
       "</table>\n",
       "<p>234 rows × 6 columns</p>\n",
       "</div>"
      ],
      "text/plain": [
       "     Unnamed: 0                                                url  \\\n",
       "0             0                              https://eatomega3.com   \n",
       "1             1                   https://eatomega3.com/blogs/news   \n",
       "2             2  https://eatomega3.com/blogs/news/10-tips-for-s...   \n",
       "3             3  https://eatomega3.com/blogs/news/5-holiday-gif...   \n",
       "4             4  https://eatomega3.com/blogs/news/50-journal-pr...   \n",
       "..          ...                                                ...   \n",
       "128         128  https://www.grayscalable.com/technical-recruiting   \n",
       "129         129  https://www.grayscalable.com/terms-and-conditions   \n",
       "130         130          https://www.grayscalable.com/testimonials   \n",
       "131         131   https://www.grayscalable.com/transition-services   \n",
       "132         132   https://www.grayscalable.com/workshops-trainings   \n",
       "\n",
       "                                               article         client  \\\n",
       "0    Eat Omega3 - QUALITY INGREDIENTS FOR YOUR BRAI...     Eat Omega3   \n",
       "1    Eat Omega3 How To Set a New Year's Resolution ...     Eat Omega3   \n",
       "2    Eat Omega3 10 Tips for Starting a Self-Care Ro...     Eat Omega3   \n",
       "3    Eat Omega3 5 Holiday Gift Ideas for Brain Heal...     Eat Omega3   \n",
       "4    Eat Omega3 50 Journal Prompts to Help You Star...     Eat Omega3   \n",
       "..                                                 ...            ...   \n",
       "128  Grey Scalable Technical Recruiting\\nRecruiting...  Gray Scalable   \n",
       "129  Grey Scalable Terms & Conditions\\nUpdated Marc...  Gray Scalable   \n",
       "130  Grey Scalable Testimonials\\nThe world's leadin...  Gray Scalable   \n",
       "131  Grey Scalable Support Employees.\\nGive them th...  Gray Scalable   \n",
       "132  Grey Scalable Train Your Team.\\nBuild your tea...  Gray Scalable   \n",
       "\n",
       "                                                 token  tokens  \n",
       "0    [Eat, Omega3, -, QUALITY, INGREDIENTS, FOR, YO...     101  \n",
       "1    [Eat, Omega3, How, To, Set, a, New, Year's, Re...      15  \n",
       "2    [Eat, Omega3, 10, Tips, for, Starting, a, Self...    1193  \n",
       "3    [Eat, Omega3, 5, Holiday, Gift, Ideas, for, Br...     792  \n",
       "4    [Eat, Omega3, 50, Journal, Prompts, to, Help, ...    1130  \n",
       "..                                                 ...     ...  \n",
       "128  [Grey, Scalable, Technical, Recruiting, Recrui...    1080  \n",
       "129  [Grey, Scalable, Terms, &, Conditions, Updated...    2593  \n",
       "130  [Grey, Scalable, Testimonials, The, world's, l...    3052  \n",
       "131  [Grey, Scalable, Support, Employees, ., Give, ...     145  \n",
       "132  [Grey, Scalable, Train, Your, Team, ., Build, ...     272  \n",
       "\n",
       "[234 rows x 6 columns]"
      ]
     },
     "execution_count": 34,
     "metadata": {},
     "output_type": "execute_result"
    }
   ],
   "source": [
    "# call function to get token col \n",
    "\n",
    "get_tokens(dfc) # sage, ps post, brute force, savimbo \n",
    "get_tokens(dstbj) # smootch, tbj\n",
    "get_tokens(mie) # maerospacertc, indigo organizing, ewedded\n",
    "get_tokens(clairant) # clairant\n",
    "get_tokens(oartakrp) # oarscanning, rainplan, seatak\n",
    "get_tokens(pdzj) # getpavr, zagoda, jane draws plans, driveway app\n",
    "get_tokens(etscolor) # etsworks, your color guru\n",
    "get_tokens(pde) # pivotal solutions, divine guitars, ecomap\n",
    "get_tokens(sg) # sputnikatx, graphitegtc\n",
    "get_tokens(oms) # omega3, sampoll, grayscalable"
   ]
  },
  {
   "cell_type": "markdown",
   "id": "74d82697-2e15-4e98-8a13-8b180d7b3ab7",
   "metadata": {},
   "source": [
    "## STEP 1C\n",
    "- Last step of pre-processing\n",
    "    - Drop: 'Unnamed: 0' and 'token' if exists\n",
    "    - Create: concatenate all dfs into one big happy reference dataframe :)"
   ]
  },
  {
   "cell_type": "code",
   "execution_count": 35,
   "id": "a676c62f-64ab-439e-bda8-d5a9d88ea7c8",
   "metadata": {
    "tags": []
   },
   "outputs": [],
   "source": [
    "def drop_cols(df):\n",
    "    \"\"\"\n",
    "    Drop Unnamed: 0 and token cols\n",
    "    if exists\n",
    "    \"\"\"\n",
    "    df = df.drop(['Unnamed: 0', 'token'], axis=1, errors='ignore')\n",
    "    df = df.set_index([\"client\", \"url\"])\n",
    "    return df"
   ]
  },
  {
   "cell_type": "code",
   "execution_count": 64,
   "id": "cd43d21a-f7d2-4570-bdfb-6404f47526af",
   "metadata": {
    "tags": []
   },
   "outputs": [],
   "source": [
    "# call drop columns function \n",
    "\n",
    "dfc = drop_cols(dfc) # sage, ps post, brute force, savimbo \n",
    "dstbj = drop_cols(dstbj) # smootch, tbj\n",
    "mie = drop_cols(mie) # maerospacertc, indigo organizing, ewedded\n",
    "clairant = drop_cols(clairant) # clairant\n",
    "oartakrp = drop_cols(oartakrp) # oarscanning, rainplan, seatak\n",
    "pdzj = drop_cols(pdzj) # getpavr, zagoda, jane draws plans, driveway app\n",
    "etscolor = drop_cols(etscolor) # etsworks, your color guru\n",
    "pde = drop_cols(pde) # pivotal solutions, divine guitars, ecomap\n",
    "sg = drop_cols(sg) # sputnikatx, graphitegtc\n",
    "oms = drop_cols(oms) # omega3, sampoll, grayscalable"
   ]
  },
  {
   "cell_type": "code",
   "execution_count": 66,
   "id": "fd5a0aa1-9a26-409b-bbbb-a6d618874192",
   "metadata": {
    "tags": []
   },
   "outputs": [],
   "source": [
    "# concat output into a big dataframe to be used later for prompt construction\n",
    "\n",
    "df = pd.concat([dfc, dstbj, mie, clairant, oartakrp, pdzj, etscolor, pde, sg, oms])"
   ]
  },
  {
   "cell_type": "markdown",
   "id": "2adde527-ea1b-463e-a4ec-9d17f8e49fae",
   "metadata": {},
   "source": [
    "## STEP 2A\n",
    "- Call text-embedding-ada-002 to create embeddings for inputs\n",
    "    - Input: individual dataframe (not the big one we just made above)\n",
    "    - Output: dictionary with structure tuple(client, article url): list[embeddings]"
   ]
  },
  {
   "cell_type": "code",
   "execution_count": 39,
   "id": "69711dbc-4131-4c76-8ce8-0841ac956cad",
   "metadata": {
    "tags": []
   },
   "outputs": [],
   "source": [
    "# our openai embedding model of choice\n",
    "EMBEDDING_MODEL = \"text-embedding-ada-002\"\n",
    "\n",
    "def get_embedding(text: str, model: str=EMBEDDING_MODEL) -> list[float]:\n",
    "    result = openai.Embedding.create(\n",
    "      model=model,\n",
    "      input=text\n",
    "    )\n",
    "    return result[\"data\"][0][\"embedding\"]\n",
    "\n",
    "def compute_doc_embeddings(df: pd.DataFrame) -> dict[tuple[str,str], list[float]]:\n",
    "    \"\"\"\n",
    "    Create an embedding for each row in the dataframe using the OpenAI Embeddings API function defined above.\n",
    "    \n",
    "    Returns a dictionary that maps between each embedding vector and the index of the row that it corresponds to.\n",
    "    \n",
    "    Format: tuple(client, article url): list[embeddings]\n",
    "    \"\"\"\n",
    "    return {\n",
    "        idx: get_embedding(r.article) for idx, r in df.iterrows() \n",
    "    }"
   ]
  },
  {
   "cell_type": "code",
   "execution_count": 40,
   "id": "2023084b-6694-4346-b013-a7bc917e3a23",
   "metadata": {
    "tags": []
   },
   "outputs": [],
   "source": [
    "# call function"
   ]
  },
  {
   "cell_type": "code",
   "execution_count": 67,
   "id": "fb7137d3-cd81-44db-ad90-95165b634807",
   "metadata": {
    "tags": []
   },
   "outputs": [],
   "source": [
    "document_embed = compute_doc_embeddings(dfc)"
   ]
  },
  {
   "cell_type": "code",
   "execution_count": 76,
   "id": "a544bef4-1bef-44e5-a14f-ac3a12033065",
   "metadata": {
    "tags": []
   },
   "outputs": [],
   "source": [
    "# make a copy in case\n",
    "doc_embed = document_embed.copy()"
   ]
  },
  {
   "cell_type": "code",
   "execution_count": 74,
   "id": "5ddb1ed8-f3f2-408e-9317-b5e76f990097",
   "metadata": {
    "tags": []
   },
   "outputs": [],
   "source": [
    "doc_embed1 = compute_doc_embeddings(dstbj)"
   ]
  },
  {
   "cell_type": "code",
   "execution_count": 80,
   "id": "a9b696cf-1676-4ba4-be13-d2c0ad3e630b",
   "metadata": {},
   "outputs": [],
   "source": [
    "# add doc_embed1 to doc_embed \n",
    "# do this each time we create new embeddings\n",
    "\n",
    "doc_embed.update(doc_embed1)"
   ]
  },
  {
   "cell_type": "code",
   "execution_count": 83,
   "id": "5aaf780a-5006-4794-9a63-960ac427aaed",
   "metadata": {
    "tags": []
   },
   "outputs": [],
   "source": [
    "doc_embed2 = compute_doc_embeddings(mie)\n",
    "doc_embed.update(doc_embed2)"
   ]
  },
  {
   "cell_type": "code",
   "execution_count": 86,
   "id": "38075a40-797b-461a-8c9c-eaaf73b9c9f9",
   "metadata": {
    "tags": []
   },
   "outputs": [
    {
     "name": "stdout",
     "output_type": "stream",
     "text": [
      "1238\n"
     ]
    }
   ],
   "source": [
    "doc_embed3 = compute_doc_embeddings(clairant)\n",
    "doc_embed.update(doc_embed3)\n",
    "print(len(doc_embed))"
   ]
  },
  {
   "cell_type": "code",
   "execution_count": 90,
   "id": "87e110a5-5b0e-4a43-9d63-438eb0bda569",
   "metadata": {
    "tags": []
   },
   "outputs": [
    {
     "name": "stdout",
     "output_type": "stream",
     "text": [
      "1345\n"
     ]
    }
   ],
   "source": [
    "doc_embed4 = compute_doc_embeddings(oartakrp)\n",
    "doc_embed.update(doc_embed4)\n",
    "print(len(doc_embed))\n",
    "# each time we calculate new embeddings we add it to the doc_embed dictionary"
   ]
  },
  {
   "cell_type": "code",
   "execution_count": 91,
   "id": "1e581dd6-dbde-4cbc-8567-69c3ac4d0d7d",
   "metadata": {
    "tags": []
   },
   "outputs": [
    {
     "name": "stdout",
     "output_type": "stream",
     "text": [
      "1498\n"
     ]
    }
   ],
   "source": [
    "doc_embed5 = compute_doc_embeddings(pdzj)\n",
    "doc_embed.update(doc_embed5)\n",
    "print(len(doc_embed))"
   ]
  },
  {
   "cell_type": "code",
   "execution_count": 92,
   "id": "c90165fc-d985-41d1-a9f2-1e37955bbf4e",
   "metadata": {
    "tags": []
   },
   "outputs": [
    {
     "name": "stdout",
     "output_type": "stream",
     "text": [
      "1907\n"
     ]
    }
   ],
   "source": [
    "doc_embed6 = compute_doc_embeddings(etscolor)\n",
    "doc_embed.update(doc_embed6)\n",
    "print(len(doc_embed))"
   ]
  },
  {
   "cell_type": "code",
   "execution_count": 93,
   "id": "d6d96554-5649-45bc-aded-405a960673e3",
   "metadata": {
    "tags": []
   },
   "outputs": [
    {
     "name": "stdout",
     "output_type": "stream",
     "text": [
      "2194\n"
     ]
    }
   ],
   "source": [
    "doc_embed7 = compute_doc_embeddings(pde)\n",
    "doc_embed.update(doc_embed7)\n",
    "print(len(doc_embed))"
   ]
  },
  {
   "cell_type": "code",
   "execution_count": 94,
   "id": "81e3b27e-2f20-460f-893f-32702d7bb7b3",
   "metadata": {
    "tags": []
   },
   "outputs": [
    {
     "name": "stdout",
     "output_type": "stream",
     "text": [
      "2455\n"
     ]
    }
   ],
   "source": [
    "doc_embed8 = compute_doc_embeddings(sg)\n",
    "doc_embed.update(doc_embed8)\n",
    "print(len(doc_embed))"
   ]
  },
  {
   "cell_type": "code",
   "execution_count": 95,
   "id": "db70a3e4-8cd5-44e7-8c70-405a53cc2dc9",
   "metadata": {
    "tags": []
   },
   "outputs": [
    {
     "name": "stdout",
     "output_type": "stream",
     "text": [
      "2689\n"
     ]
    }
   ],
   "source": [
    "doc_embed9 = compute_doc_embeddings(oms)\n",
    "doc_embed.update(doc_embed9)\n",
    "print(len(doc_embed))"
   ]
  },
  {
   "cell_type": "markdown",
   "id": "1143a233-8fe1-4973-968e-c5180cc5f6ad",
   "metadata": {},
   "source": [
    "## STEP 2B\n",
    "- Saving the embeddings dictionary \n",
    "    - Flow: write the embeddings dictionary to json \n",
    "    - Note: json doesn't support tuple keys so need to write as str then reformat when reading it back in "
   ]
  },
  {
   "cell_type": "code",
   "execution_count": 97,
   "id": "703b0340-4bf8-444a-a259-468d74ca9101",
   "metadata": {
    "tags": []
   },
   "outputs": [],
   "source": [
    "# save output as json \n",
    "import json\n",
    "\n",
    "with open('embeddings.json', 'w') as file:\n",
    "    json_string = json.dumps({str(k): v for k, v in doc_embed.items()})\n",
    "    file.write(json_string)"
   ]
  },
  {
   "cell_type": "markdown",
   "id": "5df70c00-153e-422e-909f-071c3c3768eb",
   "metadata": {},
   "source": [
    "## STEP 3A\n",
    "- prompt construction\n",
    "    - Add: compute vector similarity between input query and doc_embed to get the most relevant document sections to use in prompt"
   ]
  },
  {
   "cell_type": "code",
   "execution_count": 98,
   "id": "84d81e88-07db-4a45-b867-ae754a85e542",
   "metadata": {
    "tags": []
   },
   "outputs": [],
   "source": [
    "# using function defined in example pretty much \n",
    "\n",
    "def vector_similarity(x: list[float], y: list[float]) -> float:\n",
    "    \"\"\"\n",
    "    Returns the similarity between two vectors.\n",
    "    \n",
    "    Because OpenAI Embeddings are normalized to length 1, the cosine similarity is the same as the dot product.\n",
    "    \"\"\"\n",
    "    return np.dot(np.array(x), np.array(y))\n",
    "\n",
    "def order_document_sections_by_query_similarity(query: str, contexts: dict[(str,str), np.array]) -> list[(float, (str,str))]:\n",
    "    \"\"\"\n",
    "    Find the query embedding for the supplied query, and compare it against all of the pre-calculated document embeddings\n",
    "    to find the most relevant sections. \n",
    "    \n",
    "    Return the list of document sections, sorted by relevance in descending order.\n",
    "    \"\"\"\n",
    "    query_embedding = get_embedding(query)\n",
    "    \n",
    "    document_similarities = sorted([\n",
    "        (vector_similarity(query_embedding, doc_embedding), doc_index) for doc_index, doc_embedding in contexts.items()\n",
    "    ], reverse=True)\n",
    "    \n",
    "    return document_similarities"
   ]
  },
  {
   "cell_type": "code",
   "execution_count": 99,
   "id": "01f76be8-685e-4a83-b3e9-13c8de672443",
   "metadata": {
    "tags": []
   },
   "outputs": [
    {
     "data": {
      "text/plain": [
       "[(0.8859312455981629,\n",
       "  ('SageSEO', 'https://www.sageseo.ai/sage-seo-bootcamp/')),\n",
       " (0.8708491144143197, ('SageSEO', 'https://www.sageseo.ai/technologyadvice/')),\n",
       " (0.8617034624775659, ('SageSEO', 'https://www.sageseo.ai')),\n",
       " (0.8613553778025582, ('SageSEO', 'https://www.sageseo.ai/thank-you/')),\n",
       " (0.8577394971289178,\n",
       "  ('SageSEO', 'https://www.sageseo.ai/tag/seo-for-startups/'))]"
      ]
     },
     "execution_count": 99,
     "metadata": {},
     "output_type": "execute_result"
    }
   ],
   "source": [
    "# let's see\n",
    "# great! \n",
    "order_document_sections_by_query_similarity(\"Who is the founder of SageSEO?\", doc_embed)[:5]"
   ]
  },
  {
   "cell_type": "code",
   "execution_count": 100,
   "id": "ab96ff34-034d-4d82-a1a4-03b23a53aa4c",
   "metadata": {
    "tags": []
   },
   "outputs": [
    {
     "data": {
      "text/plain": [
       "'Context separator contains 3 tokens'"
      ]
     },
     "execution_count": 100,
     "metadata": {},
     "output_type": "execute_result"
    }
   ],
   "source": [
    "import tiktoken\n",
    "\n",
    "MAX_SECTION_LEN = 600\n",
    "SEPARATOR = \"\\n* \"\n",
    "ENCODING = \"gpt2\"  # encoding for text-davinci-003\n",
    "\n",
    "encoding = tiktoken.get_encoding(ENCODING)\n",
    "separator_len = len(encoding.encode(SEPARATOR))\n",
    "\n",
    "f\"Context separator contains {separator_len} tokens\""
   ]
  },
  {
   "cell_type": "code",
   "execution_count": 101,
   "id": "b2805f7c-ee80-44f0-b441-d2b26c8168b4",
   "metadata": {
    "tags": []
   },
   "outputs": [],
   "source": [
    "# now we actually construct the prompt\n",
    "# the prompt format: (input query, selected context_embeddings, the big dataframe)\n",
    "\n",
    "# selected completions model\n",
    "COMPLETIONS_MODEL = \"text-davinci-003\"\n",
    "\n",
    "def construct_prompt(question: str, context_embeddings: list, df: pd.DataFrame) -> str:\n",
    "    \"\"\"\n",
    "    Fetch relevant doc sections by turning the input query into embeddings and calculating the cosine similarity\n",
    "    between the input query and the values in the doc_embed dictionary \n",
    "    \n",
    "    Returns the most relevant sections to use for gpt to use as context\n",
    "    \n",
    "    Returns the constructed prompt\n",
    "    \"\"\"\n",
    "    most_relevant_document_sections = order_document_sections_by_query_similarity(question, context_embeddings)\n",
    "    \n",
    "    chosen_sections = []\n",
    "    chosen_sections_len = 0\n",
    "    chosen_sections_indexes = []\n",
    "     \n",
    "    for _, section_index in most_relevant_document_sections:\n",
    "        # Add contexts until we run out of space.        \n",
    "        document_section = df.loc[section_index]\n",
    "        \n",
    "        chosen_sections_len += document_section.tokens + separator_len\n",
    "        if chosen_sections_len > MAX_SECTION_LEN:\n",
    "            break\n",
    "            \n",
    "        chosen_sections.append(SEPARATOR + document_section.article.replace(\"\\n\", \" \"))\n",
    "        chosen_sections_indexes.append(str(section_index))\n",
    "            \n",
    "    # Useful diagnostic information\n",
    "    print(f\"Selected {len(chosen_sections)} document sections:\")\n",
    "    print(\"\\n\".join(chosen_sections_indexes))\n",
    "    \n",
    "    # header = \"\"\"Answer the question using the provided context.\"\\n\\nContext:\\n\"\"\"\n",
    "    header = \"\"\"Answer the question. Refer to the provided context if necessary.\"\\n\\nContext:\\n\"\"\"\n",
    "    \n",
    "    return header + \"\".join(chosen_sections) + \"\\n\\n Q: \" + question + \"\\n A:\""
   ]
  },
  {
   "cell_type": "code",
   "execution_count": 102,
   "id": "e6713ed5-b93e-4154-83fc-988c13c94b14",
   "metadata": {
    "tags": []
   },
   "outputs": [
    {
     "name": "stdout",
     "output_type": "stream",
     "text": [
      "Selected 3 document sections:\n",
      "('SageSEO', 'https://www.sageseo.ai/sage-seo-bootcamp/')\n",
      "('SageSEO', 'https://www.sageseo.ai/technologyadvice/')\n",
      "('SageSEO', 'https://www.sageseo.ai')\n",
      "===\n",
      " Answer the question. Refer to the provided context if necessary.\"\n",
      "\n",
      "Context:\n",
      "\n",
      "* SageSEO Sage SEO Bootcamp\n",
      "* SageSEO Technology Advice\n",
      "* SageSEO Find Your Target Customers Identify your ideal customer personas, target keywords they are searching for, and create content that builds trust with them. Rank on the Front Page Combine your personalized writing style with our AI Magic Assist tool to create great content, quickly, and rank on the front page of Google. Connect data from 3rd party tools like Google Analytics, Google Search Console, and Twitter Trending to optimize your strategy. Everything You Need to Execute a Winning SEO Strategy Create with Sage Writer & AI Magic Assist Easy to use content writing software with keyword research & AI writing integrated directly into your SEO and content marketing workflows Understand How Google Views Your Small Business View your Google search impressions, track top keywords, analyze critical website analytics, and make better decisions about each new round of content Optimize Your Content Strategy Using Data See how many keywords you rank for on Google, track your performance over time, and move to the top of Google search results. SEO Metrics that Help You Make Better Content Decisions for Your Small business As a small business owner, you’re probably frustrated with the blackbox of SEO. But with our powerful Google Search Console integration, you’ll know what search terms your website ranks for, how often you show up in search results, and what your average position is for those search results. “SEO was intimidating and confusing for me. Sage SEO helped me grow my business from 0 monthly organic visitors to over 400 in just six months and book a huge tour contract worth over $12,000 from a single organic click. “ Owner, Blaze Adventure Tours “Getting started with content was our biggest hurdle. Sage SEO made it easy and gave us both the confidence and the data to show that it was worth the time, effort and financial investment.” Owner, Revel Ride “Sage is amazing. They have helped us understand SEO in the context of our brand and how to harness it to our advantage. Since we’ve been working with them, we’ve seen steady, positive improvements to our site traffic, conversions, credibility, and more.” Founder & CEO, PS Post\n",
      "\n",
      " Q: Who is the founder of SageSEO?\n",
      " A:\n"
     ]
    }
   ],
   "source": [
    "# Test prompt\n",
    "\n",
    "prompt = construct_prompt(\n",
    "    \"Who is the founder of SageSEO?\",\n",
    "    doc_embed,\n",
    "    df\n",
    ")\n",
    "\n",
    "print(\"===\\n\", prompt)"
   ]
  },
  {
   "cell_type": "code",
   "execution_count": 103,
   "id": "c539e16e-9002-42d7-8db9-df55541a7cc7",
   "metadata": {
    "tags": []
   },
   "outputs": [
    {
     "name": "stdout",
     "output_type": "stream",
     "text": [
      "Selected 5 document sections:\n",
      "('DrinkSmootch', 'https://drinksmootch.com/products/variety-4pk')\n",
      "('DrinkSmootch', 'https://drinksmootch.com/products/variety-8pk')\n",
      "('DrinkSmootch', 'https://drinksmootch.com/pages/wholesale-inquiries')\n",
      "('DrinkSmootch', 'https://drinksmootch.com/pages/contact')\n",
      "('DrinkSmootch', 'https://drinksmootch.com/pages/about-us')\n",
      "===\n",
      " Answer the question. Refer to the provided context if necessary.\"\n",
      "\n",
      "Context:\n",
      "\n",
      "* DrinkSmootch SAMPLER 4PK (LIMITED TIME OFFER) Smootch is a new oat-powered functional beverage enhanced with fruit juice, electrolytes, and immune support. Sourced from a regenerative farm in Northern Maine, the oats provide sustained energy and soluble fiber to support active lifestyles in a non-carbonated, refreshing beverage. Try all the goods with our new sampler 4-pack. Includes Black Currant Elderberry, Blood Orange Grapefruit, Guava Hibiscus, and Lemon Lime. Limit 1 per customer.\n",
      "* DrinkSmootch Sample all the goods with our best-selling variety 8-pack. Includes Black Currant Elderberry, Blood Orange Grapefruit, Guava Hibiscus, and Lemon Lime.\n",
      "* DrinkSmootch Subscribe to get special offers, free giveaways, and once-in-a-lifetime deals.\n",
      "* DrinkSmootch Subscribe to get special offers, free giveaways, and once-in-a-lifetime deals.\n",
      "* DrinkSmootch We partner with regenerative organic farmers in Northern Maine to create a delicious, plant-powered drink made using regenerative oats, real fruit and botanicals for sustained energy and smooth, clean hydration. By creating beverages made from regenerative ingredients, Smootch provides options that are People + Planet positive. Regenerate Your Body Regenerate The Earth\n",
      "\n",
      " Q: What does drink smootch sell?\n",
      " A:\n"
     ]
    }
   ],
   "source": [
    "prompt = construct_prompt(\n",
    "    \"What does drink smootch sell?\",\n",
    "    doc_embed,\n",
    "    df\n",
    ")\n",
    "\n",
    "print(\"===\\n\", prompt)"
   ]
  },
  {
   "cell_type": "markdown",
   "id": "74dbe4bf-7171-433f-9b78-fbe88cc13dee",
   "metadata": {},
   "source": [
    "## STEP 3B\n",
    "- Call completions model\n",
    "    - Set parameters for our completion model text-davinci-003\n",
    "    - Call model with func answer_query_with_context which feeds our model the prompt (query, context, df)"
   ]
  },
  {
   "cell_type": "code",
   "execution_count": 104,
   "id": "58dcb485-e6d6-4eae-a88e-c7a42ffa1656",
   "metadata": {
    "tags": []
   },
   "outputs": [],
   "source": [
    "# set our parameters for the completion model\n",
    "\n",
    "COMPLETIONS_API_PARAMS = {\n",
    "    \"temperature\": 0.7,\n",
    "    \"max_tokens\": 1000,\n",
    "    \"model\": COMPLETIONS_MODEL,\n",
    "}\n",
    "\n",
    "# function to generate output from the completions model \n",
    "# construct the prompt using functions defined above\n",
    "# call completions model with prompt\n",
    "# return model answer\n",
    "def answer_query_with_context(\n",
    "    query: str,\n",
    "    df: pd.DataFrame,\n",
    "    document_embeddings: dict[(str, str), np.array],\n",
    "    show_prompt: bool = False\n",
    ") -> str:\n",
    "    prompt = construct_prompt(\n",
    "        query,\n",
    "        document_embeddings,\n",
    "        df\n",
    "    )\n",
    "    \n",
    "    if show_prompt:\n",
    "        print(prompt)\n",
    "\n",
    "    response = openai.Completion.create(\n",
    "                prompt=prompt,\n",
    "                **COMPLETIONS_API_PARAMS\n",
    "            )\n",
    "\n",
    "    return response[\"choices\"][0][\"text\"].strip(\" \\n\")"
   ]
  },
  {
   "cell_type": "code",
   "execution_count": 105,
   "id": "6ae53fee-adf0-4c19-9c3c-3c487bc0e031",
   "metadata": {
    "tags": []
   },
   "outputs": [
    {
     "name": "stdout",
     "output_type": "stream",
     "text": [
      "Selected 7 document sections:\n",
      "('Pivotal Solutions', 'https://pivotalsolutions.pro')\n",
      "('Pivotal Solutions', 'https://pivotalsolutions.pro/blog-category/marketing')\n",
      "('Pivotal Solutions', 'https://pivotalsolutions.pro/order-confirmation')\n",
      "('Pivotal Solutions', 'https://pivotalsolutions.pro/checkout')\n",
      "('Pivotal Solutions', 'https://pivotalsolutions.pro/paypal-checkout')\n",
      "('Pivotal Solutions', 'https://pivotalsolutions.pro/career-solutions')\n",
      "('Pivotal Solutions', 'https://pivotalsolutions.pro/blog-category/gratitude')\n"
     ]
    },
    {
     "data": {
      "text/plain": [
       "\"Pivotal Solutions provides operations and recruiting services to their CEO clients. They strive to be active, trusted advisors who help their clients improve their operations, hire critical talent, grow profits and achieve their goals. They offer clients discovery assessments to understand their business’ situation, pains and opportunities and determine recommended actions. They also offer services to people in different stages of their careers, such as those recently out of college, those stuck in their job search, those looking for a job less generic than some others, those in transition and those in the middle or latter part of their career. They provide free Zoom discovery sessions to discuss their client's business.\""
      ]
     },
     "execution_count": 105,
     "metadata": {},
     "output_type": "execute_result"
    }
   ],
   "source": [
    "answer_query_with_context(\"What does Pivotal Solutions do?\", df, doc_embed)"
   ]
  },
  {
   "cell_type": "code",
   "execution_count": 81,
   "id": "43d66d3f-b396-4766-a6b4-d93613aa27d1",
   "metadata": {
    "tags": []
   },
   "outputs": [
    {
     "name": "stdout",
     "output_type": "stream",
     "text": [
      "Selected 4 document sections:\n",
      "('Jane Draws Plans', 'https://www.janedrawsplans.com/book')\n",
      "('Jane Draws Plans', 'https://www.janedrawsplans.com/home')\n",
      "('Jane Draws Plans', 'https://www.janedrawsplans.com/faq-suggest')\n",
      "('Jane Draws Plans', 'https://www.janedrawsplans.com/contact')\n"
     ]
    },
    {
     "data": {
      "text/plain": [
       "'Jane Draws Plans provides fast and affordable architectural drawings in the Philadelphia, PA area. They specialize in non-structural plans, simple structural plans and complex structural plans. They also provide services for residential design, commercial design, and experiential design.'"
      ]
     },
     "execution_count": 81,
     "metadata": {},
     "output_type": "execute_result"
    }
   ],
   "source": [
    "answer_query_with_context(\"What does Jane Draws Plans do?\", df, doc_embed)"
   ]
  },
  {
   "cell_type": "code",
   "execution_count": 226,
   "id": "a243fe55-a86f-4a12-b324-c64baf2dead9",
   "metadata": {
    "tags": []
   },
   "outputs": [
    {
     "name": "stdout",
     "output_type": "stream",
     "text": [
      "Selected 4 document sections:\n",
      "('Jane Draws Plans', 'https://www.janedrawsplans.com/book')\n",
      "('Jane Draws Plans', 'https://www.janedrawsplans.com/home')\n",
      "('Jane Draws Plans', 'https://www.janedrawsplans.com/faq-suggest')\n",
      "('Jane Draws Plans', 'https://www.janedrawsplans.com/contact')\n"
     ]
    },
    {
     "data": {
      "text/plain": [
       "'Jane Draws Plans can improve their business by continuing to provide fast and affordable services, offering expedited services during the booking process, and by providing excellent customer service. They should also continue to build their reputation by encouraging their clients to share positive reviews and testimonials. Additionally, they could expand their services to meet the needs of more clients by offering additional design services, such as residential, commercial, and experiential design.'"
      ]
     },
     "execution_count": 226,
     "metadata": {},
     "output_type": "execute_result"
    }
   ],
   "source": [
    "answer_query_with_context(\"How can Jane Draws Plans improve their business?\", df, doc_embed)"
   ]
  },
  {
   "cell_type": "code",
   "execution_count": 82,
   "id": "43551514-3a19-4d2f-908a-7a362a9d7ea8",
   "metadata": {
    "tags": []
   },
   "outputs": [
    {
     "name": "stdout",
     "output_type": "stream",
     "text": [
      "Selected 4 document sections:\n",
      "('Jane Draws Plans', 'https://www.janedrawsplans.com/home')\n",
      "('Jane Draws Plans', 'https://www.janedrawsplans.com/faq-suggest')\n",
      "('Jane Draws Plans', 'https://www.janedrawsplans.com/contact')\n",
      "('Jane Draws Plans', 'https://www.janedrawsplans.com/book')\n"
     ]
    },
    {
     "data": {
      "text/plain": [
       "'Architectural plans - 10 - Jane Draws Plans offers non-structural and simple and complex structural plans for their services. \\n Bacon - 1 - Bacon is not relevant to Jane Draws Plans. \\n Scooby Doo - 1 - Scooby Doo is not relevant to Jane Draws Plans. \\n Design Process - 10 - Jane Draws Plans specializes in design services and has a mission to create spaces that are comfortable, memorable and inspiring. \\n Data Analysis - 1 - Data Analysis is not relevant to Jane Draws Plans. \\n Graphic Design - 8 - Jane Draws Plans specializes in design services, but graphic design is not explicitly stated as a service. \\n Blueprint Drafting - 10 - Jane Draws Plans offers non-structural and simple and complex structural plans for their services, which includes creating and drafting blueprints.\\n Engineering - 10 - Jane Draws Plans offers non-structural and simple and complex structural plans for their services, which requires engineering skills. \\n LEED Certification - 6 - Jane Draws Plans does not specifically mention LEED certification, although they may have experience with it.'"
      ]
     },
     "execution_count": 82,
     "metadata": {},
     "output_type": "execute_result"
    }
   ],
   "source": [
    "answer_query_with_context(\"Rank this list of keywords [architechtural plans, bacon, scooby doo, design process, data analysis, graphic design, blueprint drafting, engineering, LEED certification] on a scale of 1 to 10, 1 being not relevant at all to Jane Draws Plans to 10 being very relevent to Jane Draws Plans and explain why.\", df, doc_embed)"
   ]
  },
  {
   "cell_type": "code",
   "execution_count": 83,
   "id": "69bd139d-9f45-48a7-b790-07d542516c1b",
   "metadata": {
    "tags": []
   },
   "outputs": [
    {
     "name": "stdout",
     "output_type": "stream",
     "text": [
      "Selected 1 document sections:\n",
      "('SageSEO', 'https://www.sageseo.ai/blog/')\n"
     ]
    },
    {
     "data": {
      "text/plain": [
       "'1. NFL Game Pass on PS4 - 1: Not relevant to Sage SEO\\n2. Yahoo Answers Archive - 2: Somewhat relevant, as it is a source of information, but not directly related to SEO\\n3. NFL GamePass on PS4 - 4: This is related to SEO, as it is focused on optimizing search results for the keyword “NFL GamePass”.\\n4. Hard Reset Google Wifi - 6: This is related to SEO, as it is focused on optimizing search results for the keyword “Google Wifi”.\\n5. Google Wifi Reset - 6: Same as above.\\n6. NFL Game Pass on Xbox One - 6: Same as above.\\n7. How to watch NFL Game Pass - 7: This is related to SEO, as it is focused on optimizing search results for the keyword “NFL GamePass”.\\n8. NFL Game Pass Firestick - 7: Same as above.\\n9. NFL Game Pass Xbox One - 7: Same as above.\\n10. NFL Game Pass Activate - 8: This is related to SEO, as it is focused on optimizing search results for the keyword “NFL GamePass”.\\n11. NFL Game Pass iTunes - 8: Same as above.\\n12. Google Wifi Hard Reset - 8: Same as above.\\n13. How to get NFL GamePass - 8: Same as above.\\n14. Xbox One NFL Game Pass - 8: Same as above.\\n15. How to watch NFL Gamepass on TV - 9: This is related to SEO, as it is focused on optimizing search results for the keyword “NFL GamePass”.\\n16. NFL Activate Form - 9: Same as above.\\n17. How to restart Google Wifi - 9: Same as above.\\n18. Notion Create Template - 10: This is directly related to SEO, as it is focused on creating content that is optimized for search engine results.'"
      ]
     },
     "execution_count": 83,
     "metadata": {},
     "output_type": "execute_result"
    }
   ],
   "source": [
    "answer_query_with_context(\"Rank this list of keywords [nfl game pass on ps4, yahoo answers archive, nfl gamepass on ps4, hard reset google wifi, google wifi reset, nfl game pass on xbox one, how to watch nfl game pass, nfl game pass firestick, nfl game pass xbox one, nfl game pass activate, nfl game pass itunes, google wifi hard reset, how to get nfl gamepass, xbox one nfl game pass, how to watch nfl game pass on tv, nfl activate form, how to restart google wifi, notion create template] on a scale from 1 to 10, 1 being not relevant at all to Sage SEO to 10 being very relevant to Sage SEO and explain why\", df, doc_embed)"
   ]
  },
  {
   "cell_type": "code",
   "execution_count": 216,
   "id": "cf9035ae-3cbb-4a4d-9edc-029744713b34",
   "metadata": {
    "tags": []
   },
   "outputs": [
    {
     "name": "stdout",
     "output_type": "stream",
     "text": [
      "Selected 4 document sections:\n",
      "('Jane Draws Plans', 'https://www.janedrawsplans.com/book')\n",
      "('Jane Draws Plans', 'https://www.janedrawsplans.com/faq-suggest')\n",
      "('Jane Draws Plans', 'https://www.janedrawsplans.com/contact')\n",
      "('Jane Draws Plans', 'https://www.janedrawsplans.com/home')\n"
     ]
    },
    {
     "data": {
      "text/plain": [
       "'1. Tips for Designing an Inviting Retail or Hospitality Environment: This blog topic would explain to readers the various design elements that can be used to create an inviting retail or hospitality environment. It would discuss how to make a space feel cozy and inviting, and how to incorporate branding into the design. \\n\\n2. DIY Structural Projects: This blog topic would provide readers with helpful advice and tips for completing DIY structural projects. It would discuss how to safely and effectively tackle basic structural projects, such as replacing joists or lintels. \\n\\n3. Working with a Structural Design Professional: This blog topic would provide readers with an overview of the benefits of working with a structural design professional. It would discuss the advantages of having an expert plan a complex project, as well as the importance of finding a reliable and experienced professional.'"
      ]
     },
     "execution_count": 216,
     "metadata": {},
     "output_type": "execute_result"
    }
   ],
   "source": [
    "answer_query_with_context(\"Suggest 3 blog topics for Jane Draws Plans and explain why.\", df, doc_embed)"
   ]
  },
  {
   "cell_type": "code",
   "execution_count": 225,
   "id": "b345a30a-87c4-474e-9d84-a69cf5d0d140",
   "metadata": {
    "tags": []
   },
   "outputs": [
    {
     "name": "stdout",
     "output_type": "stream",
     "text": [
      "Selected 7 document sections:\n",
      "('Pivotal Solutions', 'https://pivotalsolutions.pro/blog-category/marketing')\n",
      "('Pivotal Solutions', 'https://pivotalsolutions.pro/blog-category/gratitude')\n",
      "('Pivotal Solutions', 'https://pivotalsolutions.pro/paypal-checkout')\n",
      "('Pivotal Solutions', 'https://pivotalsolutions.pro/order-confirmation')\n",
      "('Pivotal Solutions', 'https://pivotalsolutions.pro/checkout')\n",
      "('Pivotal Solutions', 'https://pivotalsolutions.pro/blog-category/search')\n",
      "('Pivotal Solutions', 'https://pivotalsolutions.pro/jobs')\n"
     ]
    },
    {
     "data": {
      "text/plain": [
       "'1. \"Exploring the Benefits of Scheduling a Free Zoom Discovery Session\": This blog post would explain the advantages of scheduling a free Zoom discovery session with Pivotal Solutions to learn more about a business and how it can help them.\\n2. \"Success Stories of Clients Who Have Used Pivotal Solutions\": This blog post would feature stories of clients who have used Pivotal Solutions and the success they have achieved as a result.\\n3. \"Best Practices for Growing Your Business\": This blog post would provide readers with tips and advice on how to best grow their business, and how Pivotal Solutions can help them achieve their goals.'"
      ]
     },
     "execution_count": 225,
     "metadata": {},
     "output_type": "execute_result"
    }
   ],
   "source": [
    "answer_query_with_context(\"Suggest 3 blog topics for Pivotal Solutions to write about and explain why.\", df, doc_embed)"
   ]
  },
  {
   "cell_type": "code",
   "execution_count": 220,
   "id": "a756321e-f18d-48ca-bdc6-4ab37898bb24",
   "metadata": {
    "tags": []
   },
   "outputs": [
    {
     "name": "stdout",
     "output_type": "stream",
     "text": [
      "Selected 4 document sections:\n",
      "('SeaTak', 'https://www.seatak.com/blog.html')\n",
      "('SeaTak', 'https://www.seatak.com/contact.html')\n",
      "('SeaTak', 'https://www.seatak.com/feedback.html')\n",
      "('SeaTak', 'https://www.seatak.com/index.html')\n"
     ]
    },
    {
     "data": {
      "text/plain": [
       "'1. The Benefits of Reef Restoration: Discuss how reef restoration can help protect ocean life and habitats, as well as the economic benefits of successful restoration projects.\\n2. The Science Behind SeaTak: Explain the science and technology used to create SeaTak, as well as the advantages of biomimicry.\\n3. The Role of Aquarium Hobbyists in Reef Restoration: Discuss how hobbyists can play a role in reef restoration and what steps they can take to be more involved.'"
      ]
     },
     "execution_count": 220,
     "metadata": {},
     "output_type": "execute_result"
    }
   ],
   "source": [
    "answer_query_with_context(\"Suggest 3 new blog topics for SeaTak and explain why.\", df, doc_embed)"
   ]
  },
  {
   "cell_type": "code",
   "execution_count": 229,
   "id": "84261e6f-17da-47be-beb5-d64b60c981da",
   "metadata": {
    "tags": []
   },
   "outputs": [
    {
     "name": "stdout",
     "output_type": "stream",
     "text": [
      "Selected 4 document sections:\n",
      "('Jane Draws Plans', 'https://www.janedrawsplans.com/book')\n",
      "('Jane Draws Plans', 'https://www.janedrawsplans.com/faq-suggest')\n",
      "('Jane Draws Plans', 'https://www.janedrawsplans.com/home')\n",
      "('Jane Draws Plans', 'https://www.janedrawsplans.com/contact')\n"
     ]
    },
    {
     "data": {
      "text/plain": [
       "'1. Architectural Drawings: Jane Draws Plans offers architectural drawings for residential, commercial and experiential design.\\n2. Design: Jane Draws Plans creates comfortable, memorable and inspiring spaces.\\n3. Residential Design: Jane Draws Plans specializes in apartments, homes and vacation properties.\\n4. Commercial Design: Jane Draws Plans creates creative and inviting retail and hospitality environments.\\n5. Experiential Design: Jane Draws Plans provides temporary and permanent branded spaces.\\n6. Fast & Affordable: Jane Draws Plans provides fast and affordable architectural drawings.\\n7. Philadelphia: Jane Draws Plans serves Philadelphia, PA.\\n8. Non-structural Plans: Jane Draws Plans offers non-structural plans for just interior or cosmetic changes.\\n9. Structural Plans: Jane Draws Plans provides simple and complex structural plans.\\n10. Client Reviews: Jane Draws Plans receives positive reviews from clients.'"
      ]
     },
     "execution_count": 229,
     "metadata": {},
     "output_type": "execute_result"
    }
   ],
   "source": [
    "answer_query_with_context(\"Suggest 10 keywords related to Jane Draws Plans and explain why.\", df, doc_embed)"
   ]
  },
  {
   "cell_type": "code",
   "execution_count": 215,
   "id": "ee3e6963-3557-4c5b-857e-6d76ef026182",
   "metadata": {
    "tags": []
   },
   "outputs": [
    {
     "name": "stdout",
     "output_type": "stream",
     "text": [
      "Selected 4 document sections:\n",
      "('Jane Draws Plans', 'https://www.janedrawsplans.com/book')\n",
      "('Jane Draws Plans', 'https://www.janedrawsplans.com/faq-suggest')\n",
      "('Jane Draws Plans', 'https://www.janedrawsplans.com/home')\n",
      "('Jane Draws Plans', 'https://www.janedrawsplans.com/contact')\n"
     ]
    },
    {
     "data": {
      "text/plain": [
       "'1. Jane Draws Plans: This is the name of the company and should be included as a keyword. \\n2. Architectural Drawings: This is one of the services Jane Draws Plans provides and should be included as a keyword. \\n3. Philadelphia: This is the city where Jane Draws Plans is located and should be included as a keyword. \\n4. Residential Design: This is one of the services Jane Draws Plans provides and should be included as a keyword. \\n5. Commercial Design: This is one of the services Jane Draws Plans provides and should be included as a keyword. \\n6. Experiential Design: This is one of the services Jane Draws Plans provides and should be included as a keyword. \\n7. Non-Structural Plans: This is one of the services Jane Draws Plans provides and should be included as a keyword. \\n8. Structural Plans: This is one of the services Jane Draws Plans provides and should be included as a keyword. \\n9. Fast: This is an attribute of the services Jane Draws Plans provides and should be included as a keyword. \\n10. Affordable: This is an attribute of the services Jane Draws Plans provides and should be included as a keyword. \\n11. Apartment: This is a type of residence that Jane Draws Plans designs and should be included as a keyword. \\n12. Home: This is a type of residence that Jane Draws Plans designs and should be included as a keyword. \\n13. Vacation Property: This is a type of residence that Jane Draws Plans designs and should be included as a keyword. \\n14. Retail: This is a type of commercial space that Jane Draws Plans designs and should be included as a keyword. \\n15. Hospitality: This is a type of commercial space that Jane Draws Plans designs and should be included as a keyword. \\n16. Temporary: This is a type of experiential space that Jane Draws Plans designs and should be included as a keyword. \\n17. Permanent: This is a type of experiential space that Jane Draws Plans designs and should be included as a keyword. \\n18. Branded: This is a type of experiential space that Jane Draws Plans designs and should be included as a keyword. \\n19. Joists: This is a type of structural plan that Jane Draws Plans designs and should be included as a keyword. \\n20. Staircase: This is a type of structural plan that Jane Draws Plans designs and should be included as a keyword. \\n21. Lintel: This is a type of structural plan that Jane Draws Plans designs and should be included as a keyword. \\n22. Basement: This is a type of structural plan that Jane Draws Plans designs and should be included as a keyword. \\n23. Load Bearing Wall: This is a type of structural plan that Jane Draws Plans designs and should be included as a keyword. \\n24. Addition: This is a type of structural plan that Jane Draws Plans designs and should be included as a keyword. \\n25. Expedited Services: This is a service that Jane Draws Plans provides and should be included as a keyword. \\n26. Professional: This is an attribute of the services Jane Draws Plans provides and should be included as a keyword. \\n27. Reliable: This is an attribute of the services Jane Draws Plans provides and should be included as a keyword. \\n28. Knowledgeable: This is an attribute of the services Jane Draws Plans provides and should be included as a keyword. \\n29. Efficient: This is an attribute of the services Jane Draws Plans provides and should be included as a keyword. \\n30. Fun: This is an attribute of the services Jane Draws Plans provides and should be included as a keyword.'"
      ]
     },
     "execution_count": 215,
     "metadata": {},
     "output_type": "execute_result"
    }
   ],
   "source": [
    "answer_query_with_context(\"Suggest 30 keywords about Jane Draws Plans and explain why.\", df, doc_embed)"
   ]
  },
  {
   "cell_type": "code",
   "execution_count": 218,
   "id": "25656035-9d59-4644-bc4d-553fea613c34",
   "metadata": {
    "tags": []
   },
   "outputs": [
    {
     "name": "stdout",
     "output_type": "stream",
     "text": [
      "Selected 12 document sections:\n",
      "('DrinkSmootch', 'https://drinksmootch.com/pages/wholesale-inquiries')\n",
      "('DrinkSmootch', 'https://drinksmootch.com/pages/contact')\n",
      "('DrinkSmootch', 'https://drinksmootch.com/products/variety-8pk')\n",
      "('DrinkSmootch', 'https://drinksmootch.com/pages/about-us')\n",
      "('DrinkSmootch', 'https://drinksmootch.com')\n",
      "('DrinkSmootch', 'https://drinksmootch.com/products/black-currant-elderberry-1')\n",
      "('DrinkSmootch', 'https://drinksmootch.com/products/variety-4pk')\n",
      "('DrinkSmootch', 'https://drinksmootch.com/products/blood-orange-grapefruit-1')\n",
      "('DrinkSmootch', 'https://drinksmootch.com/products/lemon-lime-1')\n",
      "('DrinkSmootch', 'https://drinksmootch.com/products/guava-hibiscus-pedestal')\n",
      "('DrinkSmootch', 'https://drinksmootch.com/blogs/news')\n",
      "('DrinkSmootch', 'https://drinksmootch.com/pages/collabs')\n"
     ]
    },
    {
     "data": {
      "text/plain": [
       "'1. How to Make the Most of Your Regenerative Agriculture Experience: This blog topic could explore the benefits of regenerative agriculture, as well as tips for making the most of the experience, such as ideas for incorporating regenerative ingredients into everyday meals and snacks.\\n\\n2. The Power of Plant-Powered Beverages: This blog topic could discuss the health benefits of plant-powered drinks and how they can help people to lead healthier lifestyles. It could also explore how to incorporate plant-powered drinks into a daily routine.\\n\\n3. How Smootch is Helping to Promote Well-Being: This blog topic could explore how Drink Smootch is helping to promote well-being through its regenerative ingredients, sustainable practices, and commitment to supporting independent farmers in Northern Maine. It could also discuss how Smootch is helping to create a positive impact on the environment.'"
      ]
     },
     "execution_count": 218,
     "metadata": {},
     "output_type": "execute_result"
    }
   ],
   "source": [
    "answer_query_with_context(\"Suggest 3 new blog topics for Drink Smootch and explain why.\", df, doc_embed)"
   ]
  },
  {
   "cell_type": "code",
   "execution_count": 217,
   "id": "2b96a1e0-27ee-47ad-b7ec-1b5a2a973f65",
   "metadata": {
    "tags": []
   },
   "outputs": [
    {
     "name": "stdout",
     "output_type": "stream",
     "text": [
      "Selected 1 document sections:\n",
      "('Ewedded', 'https://www.ewedded.com/blogs/behind-the-seams/stylish-and-sustainable-2023-wedding-trends')\n"
     ]
    },
    {
     "data": {
      "text/plain": [
       "'1. How to Make Your 2023 Wedding Eco-Friendly: More and more couples are looking for ways to make their weddings more eco-friendly. This blog can provide tips and tricks on how to make the wedding more environmentally conscious without sacrificing style. \\n2. Creative & Unique Wedding Venues: With traditional venues becoming less popular, couples are opting for non-traditional venues to make their wedding stand out. This blog can provide ideas on how to create an unforgettable wedding in an unusual setting. \\n3. Bold & Vibrant Color Combinations for 2023 Weddings: 2023 weddings are all about bold and vibrant colors. This blog can offer advice on how to choose the perfect color combination for the big day and provide guidance on what bridesmaid dress colors to choose.'"
      ]
     },
     "execution_count": 217,
     "metadata": {},
     "output_type": "execute_result"
    }
   ],
   "source": [
    "answer_query_with_context(\"Suggest 3 blog topics for Ewedded and explain why.\", df, doc_embed)"
   ]
  },
  {
   "cell_type": "code",
   "execution_count": 88,
   "id": "50549d30-5f67-4a1b-a11a-767bbb313019",
   "metadata": {},
   "outputs": [
    {
     "name": "stdout",
     "output_type": "stream",
     "text": [
      "Selected 1 document sections:\n",
      "('Ewedded', 'https://www.ewedded.com/blogs/behind-the-seams/stylish-and-sustainable-2023-wedding-trends')\n"
     ]
    }
   ],
   "source": [
    "ewed_words = answer_query_with_context(\"Suggest 30 keywords related to Ewedded and explain why.\", df, doc_embed)"
   ]
  },
  {
   "cell_type": "code",
   "execution_count": 90,
   "id": "b5599a73-46d0-4439-9f8b-de3ce4a1bcde",
   "metadata": {},
   "outputs": [
    {
     "name": "stdout",
     "output_type": "stream",
     "text": [
      "Selected 12 document sections:\n",
      "('DrinkSmootch', 'https://drinksmootch.com/products/variety-8pk')\n",
      "('DrinkSmootch', 'https://drinksmootch.com/pages/wholesale-inquiries')\n",
      "('DrinkSmootch', 'https://drinksmootch.com/pages/contact')\n",
      "('DrinkSmootch', 'https://drinksmootch.com/products/lemon-lime-1')\n",
      "('DrinkSmootch', 'https://drinksmootch.com/products/blood-orange-grapefruit-1')\n",
      "('DrinkSmootch', 'https://drinksmootch.com/pages/about-us')\n",
      "('DrinkSmootch', 'https://drinksmootch.com/products/black-currant-elderberry-1')\n",
      "('DrinkSmootch', 'https://drinksmootch.com/products/guava-hibiscus-pedestal')\n",
      "('DrinkSmootch', 'https://drinksmootch.com/products/variety-4pk')\n",
      "('DrinkSmootch', 'https://drinksmootch.com')\n",
      "('DrinkSmootch', 'https://drinksmootch.com/blogs/news')\n",
      "('DrinkSmootch', 'https://drinksmootch.com/pages/life-cycle-assessments')\n"
     ]
    }
   ],
   "source": [
    "smootch_words = answer_query_with_context(\"Suggest 30 keywords related to Drink Smootch and explain why.\", df, doc_embed)"
   ]
  },
  {
   "cell_type": "code",
   "execution_count": 92,
   "id": "d3c1f937-e8d4-465e-a04c-acb3cf0fe5c3",
   "metadata": {},
   "outputs": [
    {
     "name": "stdout",
     "output_type": "stream",
     "text": [
      "Selected 3 document sections:\n",
      "('MAerospaceRTC', 'https://www.maerospacertc.com/3d-printing-quote-confirmation')\n",
      "('MAerospaceRTC', 'https://www.maerospacertc.com/down-for-maintenance')\n",
      "('MAerospaceRTC', 'https://www.maerospacertc.com')\n"
     ]
    }
   ],
   "source": [
    "maero_words = answer_query_with_context(\"Suggest 30 keywords related to MAerospaceRTC and explain why.\", df, doc_embed)"
   ]
  },
  {
   "cell_type": "code",
   "execution_count": 94,
   "id": "6e0bd954-3b2c-42d1-9fda-cc16f4fdee70",
   "metadata": {
    "tags": []
   },
   "outputs": [
    {
     "name": "stdout",
     "output_type": "stream",
     "text": [
      "Selected 3 document sections:\n",
      "('IndigoOrganizing', 'https://www.indigoorganizing.com/blog/the-story-of-indigo')\n",
      "('IndigoOrganizing', 'https://www.indigoorganizing.com/blog/tag/indigo')\n",
      "('IndigoOrganizing', 'https://www.indigoorganizing.com/blog/category/5+%7C+Clients')\n"
     ]
    }
   ],
   "source": [
    "indigo_words = answer_query_with_context(\"Suggest 30 keywords related to IndigoOrganizing and explain why.\", df, doc_embed)"
   ]
  },
  {
   "cell_type": "code",
   "execution_count": 110,
   "id": "18e93479-4c64-4257-8999-e63c152d5a51",
   "metadata": {
    "tags": []
   },
   "outputs": [
    {
     "name": "stdout",
     "output_type": "stream",
     "text": [
      "Selected 14 document sections:\n",
      "('PSPOST', 'https://pspost.co/tag/startup/')\n",
      "('PSPOST', 'https://pspost.co/tag/gift-giving/')\n",
      "('PSPOST', 'https://pspost.co/tag/friendship/')\n",
      "('PSPOST', 'https://pspost.co/tag/founder/')\n",
      "('PSPOST', 'https://pspost.co/tag/business/')\n",
      "('PSPOST', 'https://pspost.co/ps-post/')\n",
      "('PSPOST', 'https://pspost.co/tag/letter-writing/')\n",
      "('PSPOST', 'https://pspost.co/tag/founderstory/')\n",
      "('PSPOST', 'https://pspost.co/tag/about/')\n",
      "('PSPOST', 'https://pspost.co/writing/')\n",
      "('PSPOST', 'https://pspost.co/tag/writing/')\n",
      "('PSPOST', 'https://pspost.co/tag/what-to-write-in-a-graduation-card/')\n",
      "('PSPOST', 'https://pspost.co/tag/spring-graduations/')\n",
      "('PSPOST', 'https://pspost.co/tag/personal-letters/')\n"
     ]
    }
   ],
   "source": [
    "PSPOST_words = answer_query_with_context(\"Suggest 30 keywords related to PSPOST and explain why.\", df, doc_embed)"
   ]
  },
  {
   "cell_type": "code",
   "execution_count": 114,
   "id": "b867a7fe-3f6c-43ee-b688-2fe4c65e9dbe",
   "metadata": {
    "tags": []
   },
   "outputs": [
    {
     "name": "stdout",
     "output_type": "stream",
     "text": [
      "Selected 2 document sections:\n",
      "('Savimbo', 'https://www.savimbo.com/blog/tag/Web3')\n",
      "('Savimbo', 'https://www.savimbo.com/blog/tag/blockchain')\n"
     ]
    }
   ],
   "source": [
    "savimbo_words = answer_query_with_context(\"Suggest 30 keywords related to Savimbo and explain why.\", df, doc_embed)"
   ]
  },
  {
   "cell_type": "code",
   "execution_count": 116,
   "id": "b67651f7-334a-48cc-8d1c-b9cb19890351",
   "metadata": {
    "tags": []
   },
   "outputs": [
    {
     "name": "stdout",
     "output_type": "stream",
     "text": [
      "Selected 4 document sections:\n",
      "('SageSEO', 'https://www.sageseo.ai/technologyadvice/')\n",
      "('SageSEO', 'https://www.sageseo.ai')\n",
      "('SageSEO', 'https://www.sageseo.ai/tag/keywords/')\n",
      "('SageSEO', 'https://www.sageseo.ai/tag/content-marketing/')\n"
     ]
    }
   ],
   "source": [
    "sage_words = answer_query_with_context(\"Suggest 30 keywords related to Sage SEO and explain why.\", df, doc_embed)"
   ]
  },
  {
   "cell_type": "code",
   "execution_count": 119,
   "id": "3bfcca82-96f6-45db-9cc1-3ff3350de00f",
   "metadata": {
    "tags": []
   },
   "outputs": [
    {
     "name": "stdout",
     "output_type": "stream",
     "text": [
      "Selected 7 document sections:\n",
      "('TBJGourmet', 'https://tbjgourmet.com/collections/pantry')\n",
      "('TBJGourmet', 'https://tbjgourmet.com/collections/all')\n",
      "('TBJGourmet', 'https://tbjgourmet.com/blogs/events')\n",
      "('TBJGourmet', 'https://tbjgourmet.com/blogs/press/16589465-six-food-trends-to-watch-food-business-news')\n",
      "('TBJGourmet', 'https://tbjgourmet.com/blogs/why-wefunder')\n",
      "('TBJGourmet', 'https://tbjgourmet.com/blogs/news/3-simple-recipes-you-can-use-for-tonights-dinner')\n",
      "('TBJGourmet', 'https://tbjgourmet.com/blogs/press/15916413-got-gourmet-12-cyber-monday-deals-for-foodies-marketwatch-com')\n"
     ]
    }
   ],
   "source": [
    "tbj_words = answer_query_with_context(\"Suggest 30 keywords related to TBJ Gourmet and explain why.\", df, doc_embed)"
   ]
  },
  {
   "cell_type": "code",
   "execution_count": 122,
   "id": "c3ad1388-bf3f-4449-aa6d-a29e6d2cf3cc",
   "metadata": {
    "tags": []
   },
   "outputs": [
    {
     "name": "stdout",
     "output_type": "stream",
     "text": [
      "Selected 1 document sections:\n",
      "('BruteForce', 'https://www.bruteforcetraining.com/blogs/bf/81487745-garage-gym-reviews-of-the-brute-force-sandbag')\n"
     ]
    }
   ],
   "source": [
    "bforce_words = answer_query_with_context(\"Suggest 30 keywords related to Brute Force fitness and explain why.\", df, doc_embed)"
   ]
  },
  {
   "cell_type": "code",
   "execution_count": 133,
   "id": "0dafa2a1-c592-4529-bc05-997a46a842f8",
   "metadata": {
    "tags": []
   },
   "outputs": [
    {
     "name": "stdout",
     "output_type": "stream",
     "text": [
      "Selected 2 document sections:\n",
      "('Clairant', 'https://www.clairantservices.com/blog/5-things-every-company-website-should-have')\n",
      "('Clairant', 'https://www.clairantservices.com/about.html')\n"
     ]
    }
   ],
   "source": [
    "clairant_words = answer_query_with_context(\"Suggest 30 keywords related to Clairant and explain why.\", df, doc_embed)"
   ]
  },
  {
   "cell_type": "code",
   "execution_count": 150,
   "id": "07986806-20b7-40b0-87ea-512e082ebaa0",
   "metadata": {
    "tags": []
   },
   "outputs": [
    {
     "name": "stdout",
     "output_type": "stream",
     "text": [
      "Selected 1 document sections:\n",
      "('Rainplan', 'https://myrainplan.com/about-rainplan/')\n"
     ]
    }
   ],
   "source": [
    "rainplan_words = answer_query_with_context(\"Suggest 30 keywords related to Rainplan and explain why.\", df, doc_embed)"
   ]
  },
  {
   "cell_type": "code",
   "execution_count": 165,
   "id": "ec3b1f09-83ee-405c-be58-e1d0963dceaf",
   "metadata": {
    "tags": []
   },
   "outputs": [
    {
     "name": "stdout",
     "output_type": "stream",
     "text": [
      "Selected 1 document sections:\n",
      "('Oarscanning', 'https://oarscanning.com/project-managers/')\n"
     ]
    }
   ],
   "source": [
    "oscan_words = answer_query_with_context(\"Suggest 30 keywords related to Oarscanning and explain why.\", df, doc_embed)"
   ]
  },
  {
   "cell_type": "code",
   "execution_count": 166,
   "id": "5945f390-9f09-4a12-8ddf-cdff18557020",
   "metadata": {
    "tags": []
   },
   "outputs": [
    {
     "name": "stdout",
     "output_type": "stream",
     "text": [
      "Selected 4 document sections:\n",
      "('SeaTak', 'https://www.seatak.com/blog.html')\n",
      "('SeaTak', 'https://www.seatak.com/contact.html')\n",
      "('SeaTak', 'https://www.seatak.com/feedback.html')\n",
      "('SeaTak', 'https://www.seatak.com/index.html')\n"
     ]
    }
   ],
   "source": [
    "stak_words = answer_query_with_context(\"Suggest 30 keywords related to SeaTak and explain why.\", df, doc_embed)"
   ]
  },
  {
   "cell_type": "code",
   "execution_count": 167,
   "id": "12e51c10-242d-427b-a09d-823781d04a23",
   "metadata": {
    "tags": []
   },
   "outputs": [],
   "source": [
    "rel_list = []\n",
    "rel_list.append(\"Indigo Organizing\")\n",
    "rel_list.append(indigo_words)\n",
    "\n",
    "rel_list.append(\"M Aerospace RTC\")\n",
    "rel_list.append(maero_words)\n",
    "\n",
    "rel_list.append(\"Drink Smootch\")\n",
    "rel_list.append(smootch_words)\n",
    "\n",
    "rel_list.append(\"Ewedded\")\n",
    "rel_list.append(ewed_words)\n",
    "\n",
    "rel_list.append(\"PS Post\")\n",
    "rel_list.append(PSPOST_words)\n",
    "\n",
    "rel_list.append(\"Savimbo\")\n",
    "rel_list.append(savimbo_words)\n",
    "\n",
    "rel_list.append(\"Sage SEO\")\n",
    "rel_list.append(sage_words)\n",
    "\n",
    "rel_list.append(\"TBJ Gourmet\")\n",
    "rel_list.append(tbj_words)\n",
    "\n",
    "rel_list.append(\"Brute Force\")\n",
    "rel_list.append(bforce_words)\n",
    "\n",
    "rel_list.append(\"Clairant\")\n",
    "rel_list.append(clairant_words)\n",
    "\n",
    "rel_list.append(\"Rainplan\")\n",
    "rel_list.append(rainplan_words)\n",
    "\n",
    "rel_list.append(\"SeaTak\")\n",
    "rel_list.append(stak_words)\n",
    "\n",
    "rel_list.append(\"Oarscanning\")\n",
    "rel_list.append(oscan_words)"
   ]
  },
  {
   "cell_type": "code",
   "execution_count": 168,
   "id": "967763b5-996a-48bd-ae62-6ddc7b336cd2",
   "metadata": {
    "collapsed": true,
    "jupyter": {
     "outputs_hidden": true
    },
    "tags": []
   },
   "outputs": [
    {
     "data": {
      "text/plain": [
       "['Indigo Organizing',\n",
       " '1. Professional Home Organizing – Describes the services offered by IndigoOrganizing \\n2. Home Decluttering – Describes the process of removing physical clutter from one’s home \\n3. Space Optimization – Describes the process of creating an efficient and organized space in one’s home \\n4. Clarity – Describes the feeling of having a clear, organized space \\n5. Stress Reduction – Describes the feeling of having a less stressful environment with fewer things to worry about \\n6. Life Simplification – Describes the process of removing unnecessary items and activities from one’s life \\n7. Efficiency – Describes the result of having an organized, efficient space \\n8. Time Management – Describes the process of managing time more effectively \\n9. Productivity – Describes the result of managing time more effectively \\n10. Stress Management – Describes the process of managing stress more effectively \\n11. Comfort – Describes the feeling of having a comfortable, organized space \\n12. Focus – Describes the feeling of having an organized, focused space \\n13. Peace – Describes the feeling of having a calm, peaceful space \\n14. Balance – Describes the feeling of having a balanced, organized space \\n15. Harmony – Describes the feeling of having a harmonious, organized space \\n16. Creativity – Describes the feeling of having a creative, organized space \\n17. Inspiration – Describes the feeling of having an inspired, organized space \\n18. Self-Care – Describes the process of taking care of one’s physical, mental and emotional well-being \\n19. Isaac Newton – Describes the scientist who identified the seven elemental colors, including “indigo” \\n20. Chile – Describes the country where IndigoOrganizing’s founder had a dream internship \\n21. Design – Describes the process of creating a beautiful logo for IndigoOrganizing \\n22. Andes Mountains – Describes the range of mountains in Chile \\n23. Birds – Describes the animals that IndigoOrganizing’s founder’s parents love \\n24. Indigo Bunting – Describes the bird who migrates to South America, guided by the stars \\n25. Joy – Describes the feeling of having a joyful, organized space \\n26. Simplicity – Describes the feeling of having a simple, organized space \\n27. Clients – Describes the people who use the services of IndigoOrganizing \\n28. Relaxation – Describes the feeling of having a relaxed, organized space \\n29. Success – Describes the feeling of having a successful, organized space \\n30. Trust – Describes the feeling of having a space that one can trust and rely on.',\n",
       " 'M Aerospace RTC',\n",
       " '1. Additive Manufacturing – the process of adding material layers to create a 3D object.\\n2. 3D Printing – the process of creating three-dimensional objects from a digital file.\\n3. CNC Machining – a process of using computer-controlled tools to shape or cut materials.\\n4. Injection Molding – the process of injecting molten material into a mold.\\n5. Laser Cutting – the process of using a laser to cut materials.\\n6. Water Jet Cutting – the process of using a high-pressure stream of water to cut materials.\\n7. Tooling Design – the process of designing tools to facilitate manufacturing.\\n8. Prototyping – the process of creating a scale model of a product.\\n9. Industrial Maintenance – the process of keeping machinery and equipment in working order.\\n10. Machinery Design – the process of creating machines to facilitate manufacturing.\\n11. Quick Tooling – the process of creating tools quickly and efficiently.\\n12. Customized Tooling Design – the process of creating tools tailored to specific needs.\\n13. HSAS 18001 – a certification that ensures an organization meets international standards for health, safety, and environmental management.\\n14. ISO 14001 – a certification that ensures an organization meets international standards for environmental management.\\n15. AS9100 Rev D – a certification that ensures an organization meets international standards for aerospace quality management.\\n16. Parts 3D Printed – the process of creating parts using 3D printing.\\n17. 100K Parts 3D Printed – the capacity of MAerospaceRTC to print 100,000 parts using 3D printing.\\n18. 100 Customers Served – the number of customers that MAerospaceRTC has served.\\n19. 6 Printing Processes – the number of printing processes that MAerospaceRTC offers.\\n20. 70 Materials – the number of materials that MAerospaceRTC works with.\\n21. USA – the country in which MAerospaceRTC is based.\\n22. MEX – the country in which MAerospaceRTC offers services.\\n23. LATAM – the region in which MAerospaceRTC offers services.\\n24. Efficient Solutions – the solutions that MAerospaceRTC provides.\\n25. Highly Trained – the level of expertise that MAerospaceRTC has.\\n26. Aerospace Quality – the level of quality that MAerospaceRTC offers.\\n27. Aerospace Solutions – the solutions that MAerospaceRTC provides.\\n28. Aerospace Certification – the certifications that MAerospaceRTC holds.\\n29. Aerospace Manufacturing – the services that MAerospaceRTC provides.\\n30. Aerospace Support – the support that MAerospaceRTC offers.',\n",
       " 'Drink Smootch',\n",
       " \"1. Regenerative Oats: This is a key ingredient in Drink Smootch and is used to provide sustained energy and fiber. \\n2. Plant-Powered: Drink Smootch is a plant-powered beverage and this keyword indicates the benefits of choosing this drink.\\n3. Black Currant Elderberry: This is one of the flavors offered in Drink Smootch’s 8-pack and highlights the variety of flavors available.\\n4. Blood Orange Grapefruit: This is another flavor offered in Drink Smootch’s 8-pack and highlights the variety of flavors available.\\n5. Guava Hibiscus: This is another flavor offered in Drink Smootch’s 8-pack and highlights the variety of flavors available.\\n6. Lemon Lime: This is another flavor offered in Drink Smootch’s 8-pack and highlights the variety of flavors available.\\n7. Vitamin C: This is one of the vitamins offered in Drink Smootch and is a key ingredient for general health.\\n8. Zinc: This is one of the minerals offered in Drink Smootch and is a key ingredient for general health.\\n9. Sea Salt: This is one of the ingredients used in Drink Smootch and is important for electrolyte balance.\\n10. Organic Honey: This is one of the ingredients used in Drink Smootch and is important for natural sweetness.\\n11. Organic Cane Sugar: This is one of the ingredients used in Drink Smootch and is important for natural sweetness.\\n12. Organic Lemon Juice: This is one of the ingredients used in Drink Smootch and is important for flavor and nutrition.\\n13. Regenerative Organic Farmers: This is the group of farmers Drink Smootch partners with to create the drink.\\n14. Northern Maine: This is the location of the regenerative organic farmers that Drink Smootch partners with.\\n15. People + Planet Positive: This phrase is used to describe the benefits of Drink Smootch and the company’s commitment to sustainability. \\n16. Non-Carbonated: This word describes the type of beverage Drink Smootch offers.\\n17. Functional Beverage: This phrase describes Drink Smootch and highlights its benefits and purpose.\\n18. Electrolytes: This is an important ingredient in Drink Smootch and is important for hydration.\\n19. Immune Support: This is one of the benefits of Drink Smootch and highlights its health benefits.\\n20. Sustained Energy: This is one of the benefits of Drink Smootch and highlights its energy-promoting qualities.\\n21. Smooth, Clean Hydration: This phrase is used to describe the benefits of Drink Smootch and highlights its hydrating qualities.\\n22. Special Offers: This keyword highlights Drink Smootch’s subscription deals and free giveaways.\\n23. Free Giveaways: This keyword highlights Drink Smootch’s subscription deals and free giveaways.\\n24. Once-in-a-Lifetime Deals: This keyword highlights Drink Smootch’s subscription deals and free giveaways.\\n25. Regenerate Your Body: This phrase is used to describe the benefits of Drink Smootch and the company’s commitment to sustainability.\\n26. Regenerate The Earth: This phrase is used to describe the benefits of Drink Smootch and the company’s commitment to sustainability.\\n27. Sampler 4-Pack: This keyword highlights the limited-time offer of Drink Smootch’s sampler 4-pack.\\n28. Life Cycle Assessments: This keyword highlights the company’s commitment to sustainability and understanding of the environment.\\n29. What They Are and Why They Matter: This phrase is used to describe the importance of life cycle assessments.\\n30. Shop: This keyword highlights the ability to purchase Drink Smootch from the company's website.\",\n",
       " 'Ewedded',\n",
       " '1. Weddings - the overall concept of the article. \\n2. Personalization - couples are customizing their weddings to include things meaningful to them. \\n3. Eco-friendly - couples are looking for ways to make their weddings more environmentally friendly. \\n4. Non-traditional Venues - couples are choosing locations such as wineries, castles, and private estates as opposed to traditional venues. \\n5. Digital Invitations - physical invitations are becoming less popular in favor of digital versions. \\n6. Food Trucks - food trucks are becoming increasingly popular for weddings to provide guests with a variety of options. \\n7. Bold Colors - 2023 wedding colors are right and bold, with a wide variety of options available. \\n8. Minimalist Gowns - minimalism is becoming increasingly popular in wedding dress trends. \\n9. Disco Decor - disco decor is becoming popular for adding a touch of retro glamour to the festivities. \\n10. Comfy Reception Decor - couples are making their guests feel at home with residential inspired furniture. \\n11. Unique - couples are opting to make their weddings unique to stand out from the crowd. \\n12. Sentimental - personalization includes incorporating sentimental settings and honoring loved ones. \\n13. Favorite Foods - couples are serving their favorite foods as a part of personalization. \\n14. Customized Attire - couples are customizing their wedding attire as a part of personalization. \\n15. Sustainable Materials - couples are using sustainable materials for decorations. \\n16. Locally Sourced Food - couples are opting for locally sourced food to make their weddings more eco-friendly. \\n17. Second-Hand Decor - couples are purchasing decor and attire second-hand to be more eco-friendly. \\n18. Renewable Energy Sources - couples are choosing venues powered by renewable energy sources to be more eco-friendly. \\n19. Meaningful - couples are incorporating meaningful elements into their weddings. \\n20. Gourmet Options - food trucks are offering gourmet options for guests. \\n21. Traditional Dishes - food trucks are offering traditional dishes for guests. \\n22. Vibrant Reds - one of the bold color options for 2023 weddings. \\n23. Vibrant Blues - one of the bold color options for 2023 weddings. \\n24. Soft Pastels - one of the bold color options for 2023 weddings. \\n25. Simple Silhouettes - part of the minimalist trend in wedding dresses. \\n26. Subtle Embellishments - part of the minimalist trend in wedding dresses. \\n27. Muted Colors - part of the minimalist trend in wedding dresses. \\n28. Shimmering Disco Balls - part of the disco decor trend for weddings. \\n29. LED Light-up Dance Floors - part of the disco decor trend for weddings. \\n30. Oversized Sofas - part of the comfy reception decor trend.',\n",
       " 'PS Post',\n",
       " '1. PS Post: This is the name of the website.\\n2. Keller Anne Ruble: The author of the posts.\\n3. September 23, 2022: Date of the first post.\\n4. September 26, 2022: Date of the last post.\\n5. Appreciation: Expressing gratitude.\\n6. Friendship: Connecting with people.\\n7. Graduations: Celebrating accomplishments.\\n8. Lifestyle: Habits and choices.\\n9. Writing: Creating content.\\n10. Spring: Season of transitions.\\n11. May 12, 2022: Date of the graduation post.\\n12. Celebrate: Marking milestones.\\n13. Accomplishments: Achievements.\\n14. Future: Plans and dreams.\\n15. Card: Congratulatory gift.\\n16. Examples: Ideas for writing.\\n17. What: Questions for readers.\\n18. Write: Communicating thoughts.\\n19. Website: Platform for content.\\n20. Posts: Articles and stories.\\n21. Author: Creator of content.\\n22. Date: Time of posting.\\n23. Gratitude: Feeling of thankfulness.\\n24. Connecting: Making connections.\\n25. Habits: Routines and behavior.\\n26. Choices: Decisions and actions.\\n27. Content: Written material.\\n28. Transitions: Changes in life.\\n29. Milestones: Notable events.\\n30. Dreams: Goals and aspirations.',\n",
       " 'Savimbo',\n",
       " 'Some suggested keywords related to Savimbo and the topic of fair-trade carbon credits could include:\\n\\n1. Savimbo - A project related to blockchain and fair-trade carbon credits.\\n2. Blockchain - A decentralized, distributed ledger technology used to track and manage digital assets.\\n3. Carbon Credits - Tradable certificates or permits allowing a company or individual to emit a certain amount of carbon dioxide.\\n4. Fair Trade - A system of trade that is based on principles of social and environmental sustainability.\\n5. Tracking - A process for monitoring and recording the progress of something over time.\\n6. Certifying - A process of verifying or attesting to the accuracy of a particular statement or fact.\\n7. Operations - The activities or processes necessary for the production of goods or services.\\n8. Ecology - The scientific study of the relationship between living organisms and their environment.\\n9. Numbers - A mathematical quantity used to represent a value or quantity.\\n10. Technology - The application of scientific knowledge for practical purposes.\\n11. Digital Assets - Electronic records or documents that are stored and accessed electronically.\\n12. Decentralized - A system in which power or authority is distributed among multiple parties.\\n13. Distributed - A system or network in which components are located on multiple computers, rather than on a single computer.\\n14. Ledger - A permanent records of financial transactions.\\n15. Tradable - Something that can be exchanged for something else, usually money.\\n16. Certificates - A document that attests to the truth of a particular statement or fact.\\n17. Permits - Official documents authorizing a person to do something that would otherwise be illegal or restricted.\\n18. Emit - To release or send forth (something, such as energy or gas).\\n19. Sustainability - The ability to maintain a certain level of activity or condition over a period of time.\\n20. Monitoring - The process of observing or tracking the progress or development of something.\\n21. Recording - The process of creating a record or written account of something.\\n22. Verifying - To confirm the accuracy or truth of something. \\n23. Attesting - To provide evidence that something is true or accurate.\\n24. Practical - Of, relating to, or manifested in practice or action.\\n25. Electronic - Technology that deals with the behavior of electrons.\\n26. Stored - To place or keep in a designated place or container.\\n27. Accessed - To gain entry or use of something.\\n28. Components - A part or element of a larger whole.\\n29. Computers - An electronic device used for processing data and instructions.\\n30. Transactions - An act or instance of conducting business.',\n",
       " 'Sage SEO',\n",
       " 'Possible keywords related to Sage SEO include:\\n\\n1. SEO Strategy – to help users find advice and tips on how to create an effective SEO strategy. \\n2. Content Marketing – to help users find advice on how to use content marketing to grow their business. \\n3. SEO Keywords – to help users understand how to use keywords to optimize their websites. \\n4. Website Analytics – to help users gain insights into their website traffic. \\n5. SEO Metrics – to help users track their performance and make better decisions. \\n6. SEO Magic Assist – to help users create high-quality content quickly. \\n7. SEO Rankings – to help users understand their SEO rankings on Google and other search engines. \\n8. SEO Tips – to help users find advice and tips on how to improve their SEO. \\n9. SEO Optimization – to help users understand how to optimize their website for search engines. \\n10. SEO Writing – to help users find advice on how to write content that is optimized for SEO. \\n11. SEO Services – to help users find services to help them with their SEO. \\n12. SEO Solutions – to help users find solutions to their SEO challenges. \\n13. SEO Tools – to help users find tools to help them with their SEO. \\n14. SEO Tutorials – to help users find tutorials to help them understand SEO. \\n15. SEO Strategies – to help users find advice on how to create an effective SEO strategy. \\n16. SEO Research – to help users find advice on how to research keywords and optimize their websites. \\n17. SEO Content – to help users find advice on how to create content that is optimized for search engines. \\n18. SEO Copywriting – to help users find advice on how to write copy that is optimized for SEO. \\n19. SEO Audits – to help users understand how to audit their website for SEO. \\n20. SEO Writing Tips – to help users find advice on how to write content that is optimized for SEO. \\n21. SEO Best Practices – to help users find advice on the best practices for SEO. \\n22. SEO Analysis – to help users understand how to analyze their website for SEO. \\n23. SEO Strategies for Small Businesses – to help users find advice on how to create effective SEO strategies for small businesses. \\n24. SEO Training – to help users find training to help them understand SEO.\\n25. SEO Services for Small Businesses – to help users find services to help them with their SEO. \\n26. SEO Marketing – to help users find advice on how to use SEO to market their business. \\n27. SEO Trends – to help users understand the latest SEO trends. \\n28. SEO Performance – to help users track their SEO performance over time. \\n29. SEO Optimization Tools – to help users find tools to help them with their SEO optimization. \\n30. SEO Writing Services – to help users find services to help them with their SEO writing.',\n",
       " 'TBJ Gourmet',\n",
       " '1. TBJ Gourmet: Company name\\n2. Dry goods: Products sold by TBJ Gourmet\\n3. Spices: Products sold by TBJ Gourmet\\n4. Rubs: Products sold by TBJ Gourmet\\n5. Culinary arts: Describes the products of TBJ Gourmet\\n6. Bacon Jam: Specific product of TBJ Gourmet\\n7. Food trends: Topic of article on TBJ Gourmet website\\n8. Winter Fancy Food Show: Event featured in article on TBJ Gourmet website\\n9. Specialty Foods: Descriptive term for products of TBJ Gourmet\\n10. Beverages: Products sold by TBJ Gourmet\\n11. Creative cooking: Descriptive term for recipes featured on TBJ Gourmet website\\n12. Recipes: Features on TBJ Gourmet website\\n13. Cooking: Activity related to TBJ Gourmet products\\n14. Jar of Bacon Jam: Specific product of TBJ Gourmet\\n15. Bacon10: Promotional code for TBJ Gourmet\\n16. Cyber Monday: Event featured in article on TBJ Gourmet website\\n17. Foodies: Descriptive term for customers of TBJ Gourmet\\n18. MarketWatch.com: Website featured in article on TBJ Gourmet website\\n19. Bacon Boom: Topic of article on TBJ Gourmet website\\n20. Chocolate-covered bacon: Specific product of TBJ Gourmet\\n21. Bacon-flavored vodka: Specific product of TBJ Gourmet\\n22. Gourmet food: Describes products of TBJ Gourmet\\n23. Culinary: Descriptive term for products of TBJ Gourmet\\n24. Quality products: Describes products of TBJ Gourmet\\n25. Cooking ingredients: Products sold by TBJ Gourmet\\n26. Specialty foods and beverages: Describes products of TBJ Gourmet\\n27. Cooking supplies: Products sold by TBJ Gourmet\\n28. Food writers: Mentioned in article on TBJ Gourmet website\\n29. Journalists: Mentioned in article on TBJ Gourmet website\\n30. Exhibitors: Mentioned in article on TBJ Gourmet website',\n",
       " 'Brute Force',\n",
       " \"1. Brute Force - The company and brand of the sandbag being reviewed.\\n2. Functional Strength - The type of strength the sandbag is designed to help build.\\n3. Sandbag - The type of equipment being reviewed.\\n4. Lifting - The activity the sandbag is designed for.\\n5. Gym - The type of environment outside of which the sandbag can be used.\\n6. Car - An example of an application of the sandbag's strength.\\n7. Boulders - An example of an application of the sandbag's strength.\\n8. Low Tech - Describes the sandbag as a piece of equipment.\\n9. Precision Calibrated - Contrasting the sandbag to other gym equipment.\\n10. Workout - What the sandbag is used for.\\n11. Anytime - Where the sandbag can be used.\\n12. Anywhere - Where the sandbag can be used.\\n13. Review - The purpose of the article.\\n14. Benjamins - Slang for money.\\n15. Strength Training - What the sandbag is used for.\\n16. Fitness - What the sandbag is used for.\\n17. Exercise - What the sandbag is used for.\\n18. Bodybuilding - What the sandbag is used for.\\n19. Muscle Building - What the sandbag is used for.\\n20. Home Gym - Where the sandbag can be used.\\n21. Powerlifting - What the sandbag is used for.\\n22. Outdoor Gym - Where the sandbag can be used.\\n23. Strength Equipment - What the sandbag is.\\n24. Crossfit - What the sandbag is used for.\\n25. Outdoor Fitness - Where the sandbag can be used.\\n26. Bodyweight Exercises - What the sandbag is used for.\\n27. Weightlifting - What the sandbag is used for.\\n28. Strength Circuits - What the sandbag is used for.\\n29. Weight Training - What the sandbag is used for.\\n30. Strength Workouts - What the sandbag is used for.\",\n",
       " 'Clairant',\n",
       " 'Possible keywords related to Clairant could include: \\n\\n1. Clairant Services: This keyword is relevant because it is the name of the company. \\n2. Startup Marketing: This keyword is relevant because Clairant specializes in providing marketing services to startups.\\n3. Business Promotion: This keyword is relevant because Clairant provides services to help promote businesses.\\n4. Startup Companies: This keyword is relevant because Clairant focuses on helping startups succeed.\\n5. Branding: This keyword is relevant because Clairant can help businesses create memorable branding.\\n6. Social Media: This keyword is relevant because Clairant can help businesses build and manage their social media presence.\\n7. Analytics: This keyword is relevant because Clairant can provide data and analytics to help businesses track customer behavior and make changes for better results.\\n8. Content Creation: This keyword is relevant because Clairant can help businesses create relevant and interesting content to keep customers engaged.\\n9. Contact Information: This keyword is relevant because Clairant can help businesses make their contact information easily accessible.\\n10. Website Design: This keyword is relevant because Clairant can help businesses create websites that stand out from the competition.\\n11. Competitive Advantage: This keyword is relevant because Clairant can help businesses gain a competitive advantage in their industry.\\n12. Intuitive Design: This keyword is relevant because Clairant can help businesses create intuitive websites that are easy to understand.\\n13. Strategic Planning: This keyword is relevant because Clairant can help businesses create strategic plans to achieve their goals.\\n14. Professional Development: This keyword is relevant because Clairant provides services to help businesses develop professionally.\\n15. Customer Satisfaction: This keyword is relevant because Clairant can help businesses create experiences that will please customers.\\n16. Online Marketing: This keyword is relevant because Clairant provides services to help businesses succeed in the world of online marketing.\\n17. Brand Awareness: This keyword is relevant because Clairant can help businesses increase their brand awareness.\\n18. Results-Driven: This keyword is relevant because Clairant focuses on providing results-driven services to help businesses succeed.\\n19. Motivation: This keyword is relevant because Clairant can help businesses motivate customers to take action.\\n20. User Experience: This keyword is relevant because Clairant can help businesses create websites that have a positive user experience.\\n21. Industry Leader: This keyword is relevant because Clairant can help businesses establish themselves as industry leaders.\\n22. Eye-Catching: This keyword is relevant because Clairant can help businesses create eye-catching branding.\\n23. Fresh Content: This keyword is relevant because Clairant can help businesses create fresh content to keep customers engaged.\\n24. Digital Marketing: This keyword is relevant because Clairant can help businesses succeed in the digital world.\\n25. Establish Goals: This keyword is relevant because Clairant can help businesses establish goals and objectives.\\n26. Navigation: This keyword is relevant because Clairant can help businesses create intuitive navigation on their websites.\\n27. Professionalism: This keyword is relevant because Clairant can help businesses create a professional look and feel.\\n28. Consistency: This keyword is relevant because Clairant can help businesses create consistency across their branding and website.\\n29. Memorable: This keyword is relevant because Clairant can help businesses create memorable experiences for customers.\\n30. Successful: This keyword is relevant because Clairant can help businesses become successful.',\n",
       " 'Rainplan',\n",
       " '1. Rainplan: The name of the technology company that bridges the gap between stormwater incentive programs, contractors, and property owners. \\n2. Stormwater: Water runoff that is affected by urban areas and containing chemicals, oils, and bacteria. \\n3. Urban Areas: Areas with a high population density, such as cities and towns. \\n4. Concrete: A material used in urban areas which affects water runoff. \\n5. Hardscapes: Man-made structures, such as sidewalks and roads, found in urban areas. \\n6. Waterways: Rivers, streams, and other bodies of water. \\n7. Unfit Waterways: Bodies of water that are not suitable for swimming, drinking, or sustaining aquatic life. \\n8. Private Property: Land and buildings owned by individuals or companies. \\n9. Best Practices: Techniques and actions that are most effective to achieve a desired result. \\n10. Green Infrastructure: Sustainable practices that utilize plants, soils, and other natural elements to manage stormwater. \\n11. Property Owners: Individuals or companies that own land and buildings. \\n12. Financing: The process of obtaining money for a project or purchase. \\n13. Time Constraints: A limitation of time to complete a task. \\n14. Confusion: The state of being perplexed or uncertain. \\n15. Vision: A goal or plan of action. \\n16. Mission: A purpose or task to be accomplished. \\n17. App: Short for application, a computer program or mobile application that performs tasks. \\n18. Freemium: A type of business model where customers can access a product or service for free, with the option to pay for additional features. \\n19. Dashboard: A user interface in which data is displayed. \\n20. Contractors: Workers who are hired to complete a specific task. \\n21. Matching Services: A process of finding the best fit for a certain job or task. \\n22. Project Financing: Money that is loaned to fund a project. \\n23. Hassle-free Terms: Conditions that are easy to understand and do not require a lot of effort or time to fulfill. \\n24. Incentive Applications: A type of application that is used to request a benefit or reward. \\n25. Mobilize: To organize and activate people for a cause. \\n26. Empower: To give people the authority and resources to do something. \\n27. Rain Revolution: The movement of utilizing rainplan to manage stormwater. \\n28. Economies: A system of production, distribution, and consumption of goods and services. \\n29. Health: The overall physical, mental, and social well-being of a person. \\n30. Sustainable Communities: Communities that are designed to be environmentally friendly and self-sustaining.',\n",
       " 'SeaTak',\n",
       " '1. SeaTak: This is the name of the product and should be included as a keyword.\\n2. Adhesive: SeaTak is an adhesive designed to enable scaling of global coral restoration.\\n3. Biomimicry: SeaTak is the first adhesive of its kind to use biomimicry to adhere and join different materials underwater.\\n4. Mussel Adhesive: SeaTak is inspired by the chemistry of mussel adhesive to create a long-lasting, durable, nontoxic, easy-to-use bonding agent.\\n5. Underwater Glue: SeaTak is a revolutionary underwater glue that is perfect for even the most challenging underwater projects.\\n6. Coral Restoration: SeaTak was funded by NOAA for coral reef restoration.\\n7. Aquarium Hobbyists: SeaTak is perfect for aquarium hobbyists.\\n8. Durable: SeaTak is a durable adhesive that can be used for a variety of projects.\\n9. Nontoxic: SeaTak is a nontoxic adhesive that is safe to use.\\n10. Easy to Use: SeaTak is easy to use and does not require any special equipment or techniques.\\n11. Long Lasting: SeaTak is a long-lasting adhesive that can be used for a variety of projects.\\n12. Plant Faster: SeaTak enables quicker planting of coral reefs.\\n13. Vibrant Color: SeaTak helps to create vibrant colors in coral reefs.\\n14. Aquatic Life: SeaTak supports aquatic life in coral reefs.\\n15. Healthy Coastlines: SeaTak helps to maintain healthy coastlines.\\n16. Stunning Ecosystems: SeaTak helps to create stunning living ecosystems.\\n17. Critical Role: SeaTak plays a critical role in our world.\\n18. NOAA: SeaTak was funded by NOAA.\\n19. Reefs: SeaTak is used to restore reefs.\\n20. Fragging: SeaTak is used for fragging coral.\\n21. Bonding Agent: SeaTak is a bonding agent for underwater projects.\\n22. Underwater Structure: SeaTak is used to attach to underwater structures.\\n23. Revolutionize: SeaTak is revolutionary in the fragging industry.\\n24. Magic: SeaTak has been described as magical.\\n25. Winner: SeaTak has been called a winner.\\n26. Scaling: SeaTak enables scaling of global coral restoration.\\n27. Mussels: SeaTak is inspired by the adhesive of mussels.\\n28. Strong: SeaTak is the strongest way to stick together.\\n29. Marine Science: SeaTak was a topic of discussion in marine science classes.\\n30. Bivalves: SeaTak uses biomimicry to adhere and join different materials underwater, like bivalves.',\n",
       " 'Oarscanning',\n",
       " '1. OAR Scanning: The company name\\n2. Project Manager: Person responsible for running the project\\n3. Retrofit: Upgrading existing infrastructure\\n4. New Build: Constructing new infrastructure\\n5. Industrial Facility: The environment for the project\\n6. Advanced Technology: OAR Scanning’s specialty\\n7. 3D Laser Scanning: OAR Scanning’s scanning service\\n8. BIM: Building information modeling\\n9. Implementation: Installing BIM\\n10. Coordination: Grouping components to integrate them\\n11. Construction Quality: Quality of the construction process\\n12. Verification: Checking that construction is accurate\\n13. Stakeholders: People involved in the project\\n14. Remotely: Working from a distance\\n15. Time Saving: Reduced time for project completion\\n16. Single Source of Truth: Common information source\\n17. Overview: General picture of the project\\n18. Decisions: Making informed choices\\n19. Maintenance: Keeping infrastructure functioning\\n20. Plan: Establishing a goal\\n21. Schedule: Setting a timeline\\n22. Track: Recording progress\\n23. Performance: Measuring success\\n24. Efficiency: Doing the job quicker\\n25. Effectiveness: Doing the job better\\n26. Data Collection: Gathering information\\n27. 3D Model: Visual representation of the project\\n28. Collaboration: Working together\\n29. Coordination: Organizing components\\n30. Expectations: Desired outcomes']"
      ]
     },
     "execution_count": 168,
     "metadata": {},
     "output_type": "execute_result"
    }
   ],
   "source": [
    "rel_list"
   ]
  },
  {
   "cell_type": "code",
   "execution_count": 108,
   "id": "7518ffe0-008b-4c5d-a159-4395751470de",
   "metadata": {
    "tags": []
   },
   "outputs": [
    {
     "name": "stdout",
     "output_type": "stream",
     "text": [
      "Selected 5 document sections:\n",
      "('SageSEO', 'https://www.sageseo.ai/technologyadvice/')\n",
      "('SageSEO', 'https://www.sageseo.ai/sage-seo-bootcamp/')\n",
      "('SageSEO', 'https://www.sageseo.ai')\n",
      "('SageSEO', 'https://www.sageseo.ai/tag/content-marketing/')\n",
      "('SageSEO', 'https://www.sageseo.ai/blog/')\n"
     ]
    },
    {
     "data": {
      "text/plain": [
       "'1. SEO\\n 2. Content Marketing\\n 3. AI\\n 4. Small Business\\n 5. Google\\n 6. Google Search\\n 7. SEO Strategy\\n 8. SEO Keywords\\n 9. SEO Research\\n 10. Content Strategy'"
      ]
     },
     "execution_count": 108,
     "metadata": {},
     "output_type": "execute_result"
    }
   ],
   "source": [
    "answer_query_with_context(\"List 10 keywords related to SageSEO\", df, doc_embed)"
   ]
  },
  {
   "cell_type": "code",
   "execution_count": 106,
   "id": "488b9db3-244e-46be-a0c5-0c8c80019afb",
   "metadata": {
    "tags": []
   },
   "outputs": [
    {
     "name": "stdout",
     "output_type": "stream",
     "text": [
      "Selected 3 document sections:\n",
      "('PSPOST', 'https://pspost.co/business/')\n",
      "('PSPOST', 'https://pspost.co')\n",
      "('PSPOST', 'https://pspost.co/cards/')\n"
     ]
    },
    {
     "data": {
      "text/plain": [
       "'Sending greeting cards to friends, family, and colleagues is a special way to show you care, but it can be a hassle to pick out the perfect card, find the right pen, and mail it in time. Enter PSPOST, the perfect way to make sending greeting cards easy and enjoyable! Our extensive catalogue of cards and digital gifting experiences make it easy to find the perfect card for any occasion, and our handwriting font or real handwriting and signature options make each card even more personal. Plus, our recurring service option makes it easy to remember birthdays and special occasions without having to think about it. With PSPOST, you can create special, personal cards with ease and never miss another occasion.'"
      ]
     },
     "execution_count": 106,
     "metadata": {},
     "output_type": "execute_result"
    }
   ],
   "source": [
    "answer_query_with_context(\"Write a blog post introduction about the benefits of mailing greeting cards to friends using PSPOST's voice.\", df, doc_embed)"
   ]
  },
  {
   "cell_type": "code",
   "execution_count": 287,
   "id": "406034f8-5169-4389-ab45-c49a6c671b42",
   "metadata": {},
   "outputs": [
    {
     "name": "stdout",
     "output_type": "stream",
     "text": [
      "Selected 6 document sections:\n",
      "('PSPOST', 'https://pspost.co/why-letter-writing-is-an-art-thats-not-even-close-to-dead/')\n",
      "('PSPOST', 'https://pspost.co/tag/startup/')\n",
      "('PSPOST', 'https://pspost.co/tag/gift-giving/')\n",
      "('PSPOST', 'https://pspost.co/tag/business/')\n",
      "('PSPOST', 'https://pspost.co/tag/letter-writing/')\n",
      "('PSPOST', 'https://pspost.co/tag/friendship/')\n"
     ]
    },
    {
     "data": {
      "text/plain": [
       "\"Cats make wonderful pets, offering companionship and entertainment while being relatively low-maintenance. In this blog post, I'll discuss why cats make excellent furry friends and how to find the perfect feline companion for your home. From their playful nature to their affectionate personalities, cats make wonderful and loyal pets. I'll also share tips on how to properly care for your cat, from regular vet visits to plenty of cuddles and playtime. So read on to learn why cats are the perfect pet for your family!\""
      ]
     },
     "execution_count": 287,
     "metadata": {},
     "output_type": "execute_result"
    }
   ],
   "source": [
    "answer_query_with_context(\"Write a blog introduction about why cats are good pets.\", dfc, document_embeddings)"
   ]
  },
  {
   "cell_type": "code",
   "execution_count": 107,
   "id": "2d67ce31-bf25-4369-81fe-b22bb55bea70",
   "metadata": {
    "tags": []
   },
   "outputs": [
    {
     "name": "stdout",
     "output_type": "stream",
     "text": [
      "Selected 10 document sections:\n",
      "('PSPOST', 'https://pspost.co/tag/gift-giving/')\n",
      "('PSPOST', 'https://pspost.co/tag/founderstory/')\n",
      "('PSPOST', 'https://pspost.co/tag/business/')\n",
      "('PSPOST', 'https://pspost.co/tag/about/')\n",
      "('PSPOST', 'https://pspost.co/ps-post/')\n",
      "('PSPOST', 'https://pspost.co/tag/startup/')\n",
      "('PSPOST', 'https://pspost.co/tag/letter-writing/')\n",
      "('PSPOST', 'https://pspost.co/tag/friendship/')\n",
      "('PSPOST', 'https://pspost.co/tag/founder/')\n",
      "('PSPOST', 'https://pspost.co/about/')\n"
     ]
    },
    {
     "data": {
      "text/plain": [
       "'PSPOST belongs to the greeting card and e-gift industry.'"
      ]
     },
     "execution_count": 107,
     "metadata": {},
     "output_type": "execute_result"
    }
   ],
   "source": [
    "answer_query_with_context(\"What industry does PSPOST belong to?\", df, doc_embed)"
   ]
  },
  {
   "cell_type": "code",
   "execution_count": 109,
   "id": "eadc5e8e-22d3-4fe1-9daf-5d4d427516d4",
   "metadata": {
    "tags": []
   },
   "outputs": [
    {
     "name": "stdout",
     "output_type": "stream",
     "text": [
      "Selected 2 document sections:\n",
      "('BruteForce', 'https://www.bruteforcetraining.com/blogs/bf/81487745-garage-gym-reviews-of-the-brute-force-sandbag')\n",
      "('BruteForce', 'https://repfitness.com/blogs/rep-blog')\n"
     ]
    },
    {
     "data": {
      "text/plain": [
       "'BruteForce belongs to the fitness industry.'"
      ]
     },
     "execution_count": 109,
     "metadata": {},
     "output_type": "execute_result"
    }
   ],
   "source": [
    "answer_query_with_context(\"What industry does Bruteforce belong to?\", df, doc_embed)"
   ]
  },
  {
   "cell_type": "code",
   "execution_count": 111,
   "id": "35307aeb-646f-46c1-9818-1ded4d2d76a1",
   "metadata": {
    "tags": []
   },
   "outputs": [
    {
     "name": "stdout",
     "output_type": "stream",
     "text": [
      "Selected 1 document sections:\n",
      "('SageSEO', 'https://www.sageseo.ai')\n"
     ]
    },
    {
     "data": {
      "text/plain": [
       "'It is not possible to accurately rank this list of keywords from 1 to 10 as relevance is subjective. However, keywords such as \"search engine optimization,\" \"small business SEO,\" \"content marketing,\" and \"DIY SEO software\" would likely be rated closer to 10 as they are closely related to the services Sage SEO offers. On the other hand, keywords such as \"how to reset Google Nest,\" \"NFL Game Pass on Xbox,\" \"how to factory reset Google Wifi,\" and \"Yahoo Answers Archive\" would likely be rated closer to 1 as they are not closely related to the services Sage SEO offers.'"
      ]
     },
     "execution_count": 111,
     "metadata": {},
     "output_type": "execute_result"
    }
   ],
   "source": [
    "answer_query_with_context(\"Rank this list of keywords for Sage SEO [search engine optimization, small business seo, content marketing, how to reset google nest, nfl game pass on xbox, how to factory reset google wifi, reset google wifi point, nfl game pass activation code, how to reset google home, factory reset nest, nfl gamepass xbox, nfl game pass xbox, factory reset google wifi point, ps4 nfl gamepass, google wifi reset button, nfl game pass on ps4, yahoo answers archive, nfl gamepass on ps4, hard reset google wifi, google wifi reset, nfl game pass on xbox one, how to watch nfl game pass, nfl game pass firestick, nfl game pass xbox one, nfl game pass activate, nfl game pass itunes, google wifi hard reset, how to get nfl gamepass, xbox one nfl game pass, how to watch nfl game pass on tv, nfl activate form, how to restart google wifi, notion create template, nfl game pass on xbox 360, notion page template, nfl game pass activate fire tv, watch nfl game pass on ps4, nfl.com/ps4 activation code, notion create template from existing page, how to factory reset google wifi point, google wifi factory reset, how to factory reset google nest wifi, how to reset google wifi without app, google wifi factory reset button, restart google wifi, reset google nest, how to reset google wifi mesh, google nest wifi reset, diy seo software, how to factory reset google wifi without app, how to get nfl game pass, nfl game pass ps4, nfl app on xbox one, how do i get nfl game pass on my tv, nfl on amazon fire stick activate, nfl game pass tv, nfl gamepass on tv, how to get nfl game pass on tv, nfl app xbox, how to hard reset google wifi, factory reset google mesh, nfl game pass iphone] on a scale from 1 to 10, 1 being not relevant at all to Sage SEO to 10 being very relevant to Sage SEO and explain why.\", df, doc_embed)"
   ]
  }
 ],
 "metadata": {
  "kernelspec": {
   "display_name": "Python 3 (ipykernel)",
   "language": "python",
   "name": "python3"
  },
  "language_info": {
   "codemirror_mode": {
    "name": "ipython",
    "version": 3
   },
   "file_extension": ".py",
   "mimetype": "text/x-python",
   "name": "python",
   "nbconvert_exporter": "python",
   "pygments_lexer": "ipython3",
   "version": "3.9.15"
  }
 },
 "nbformat": 4,
 "nbformat_minor": 5
}
