{
 "cells": [
  {
   "cell_type": "code",
   "execution_count": 1,
   "id": "a370eae4-0fd8-4652-9e6f-baf96c300a0a",
   "metadata": {
    "tags": []
   },
   "outputs": [],
   "source": [
    "import pandas as pd\n",
    "from trafilatura.sitemaps import sitemap_search\n",
    "from tqdm import tqdm\n",
    "from trafilatura import fetch_url, extract\n",
    "import time"
   ]
  },
  {
   "cell_type": "code",
   "execution_count": 2,
   "id": "d6b5b64b-3492-4a63-88f2-6a68924d8781",
   "metadata": {
    "tags": []
   },
   "outputs": [],
   "source": [
    "def get_urls_from_sitemap(resource_url: str) -> list:\n",
    "    \"\"\"\n",
    "    Get a list of urls from a sitemap with trafilatura\n",
    "    \"\"\"\n",
    "    urls = sitemap_search(resource_url)\n",
    "    return urls"
   ]
  },
  {
   "cell_type": "code",
   "execution_count": 1,
   "id": "48269956-6e2f-4478-b7b8-24f444fcca04",
   "metadata": {
    "tags": []
   },
   "outputs": [],
   "source": [
    "def extract_article(url: str) -> dict:\n",
    "    \"\"\"\n",
    "    Extract text content from a url\n",
    "    \"\"\"\n",
    "    downloaded = fetch_url(url) \n",
    "    article = extract(downloaded, favor_precision=True)\n",
    "    \n",
    "    return article"
   ]
  },
  {
   "cell_type": "code",
   "execution_count": 4,
   "id": "d196666e-95c3-485f-a2e0-adfd9eaeb21a",
   "metadata": {
    "tags": []
   },
   "outputs": [],
   "source": [
    "def create_dataset(list_of_websites: list) -> pd.DataFrame:\n",
    "    \"\"\"\n",
    "    Create a dataframe from a list of sitemaps that is passed to get_urls_from_sitemap\n",
    "    \"\"\"\n",
    "    data = []\n",
    "    for website in tqdm(list_of_websites, desc=\"Websites\"):\n",
    "        urls = get_urls_from_sitemap(website)\n",
    "        for url in tqdm(urls, desc=\"URLs\"):\n",
    "            d = {\n",
    "                'url': url,\n",
    "                \"article\": extract_article(url)\n",
    "            }\n",
    "            data.append(d)\n",
    "            time.sleep(0.5)\n",
    "\n",
    "    df = pd.DataFrame(data)\n",
    "    df = df.drop_duplicates()\n",
    "    df = df.dropna()\n",
    "\n",
    "    return df"
   ]
  },
  {
   "cell_type": "markdown",
   "id": "a1c00ab1-2e77-4ae1-8aa3-68e25fc7c36a",
   "metadata": {},
   "source": [
    "### Broken URLS:\n",
    "These either have empty html tree somewhere which kills my kernel and I have to restart or just returns an empty dataframe\n",
    "\n",
    "\n",
    "- https://www.fortheculturegames.us/\n",
    "- https://www.kilcommonslaw.com/\n",
    "- https://tourguidegames.com/\n",
    "- https://www.balancebound.co/\n",
    "- https://mindfulmamamentor.com/\n",
    "- https://hosthelpr.com/\n",
    "- https://coreptpilates.com/\n",
    "- https://pinotspalette.com/danville/"
   ]
  },
  {
   "cell_type": "code",
   "execution_count": 8,
   "id": "5f391f21-3bbe-46ed-85e9-8ce44b46aa6a",
   "metadata": {
    "tags": []
   },
   "outputs": [
    {
     "name": "stderr",
     "output_type": "stream",
     "text": [
      "Websites:   0%|                                           | 0/1 [00:00<?, ?it/s]\n",
      "URLs:   0%|                                              | 0/32 [00:00<?, ?it/s]\u001b[A\n",
      "URLs:   3%|█▏                                    | 1/32 [00:00<00:25,  1.23it/s]\u001b[A\n",
      "URLs:   6%|██▍                                   | 2/32 [00:01<00:23,  1.28it/s]\u001b[A\n",
      "URLs:   9%|███▌                                  | 3/32 [00:02<00:23,  1.21it/s]\u001b[A\n",
      "URLs:  12%|████▊                                 | 4/32 [00:03<00:23,  1.20it/s]\u001b[A\n",
      "URLs:  16%|█████▉                                | 5/32 [00:04<00:23,  1.17it/s]\u001b[A\n",
      "URLs:  19%|███████▏                              | 6/32 [00:05<00:23,  1.13it/s]\u001b[A\n",
      "URLs:  22%|████████▎                             | 7/32 [00:06<00:22,  1.12it/s]\u001b[A\n",
      "URLs:  25%|█████████▌                            | 8/32 [00:06<00:21,  1.12it/s]\u001b[A\n",
      "URLs:  28%|██████████▋                           | 9/32 [00:07<00:19,  1.17it/s]\u001b[A\n",
      "URLs:  31%|███████████▌                         | 10/32 [00:08<00:19,  1.15it/s]\u001b[A\n",
      "URLs:  34%|████████████▋                        | 11/32 [00:09<00:18,  1.12it/s]\u001b[A\n",
      "URLs:  38%|█████████████▉                       | 12/32 [00:10<00:17,  1.14it/s]\u001b[A\n",
      "URLs:  41%|███████████████                      | 13/32 [00:11<00:16,  1.18it/s]\u001b[A\n",
      "URLs:  44%|████████████████▏                    | 14/32 [00:11<00:14,  1.22it/s]\u001b[A\n",
      "URLs:  47%|█████████████████▎                   | 15/32 [00:12<00:13,  1.22it/s]\u001b[A\n",
      "URLs:  50%|██████████████████▌                  | 16/32 [00:13<00:12,  1.26it/s]\u001b[A\n",
      "URLs:  53%|███████████████████▋                 | 17/32 [00:14<00:11,  1.30it/s]\u001b[A\n",
      "URLs:  56%|████████████████████▊                | 18/32 [00:15<00:10,  1.28it/s]\u001b[A\n",
      "URLs:  59%|█████████████████████▉               | 19/32 [00:15<00:10,  1.24it/s]\u001b[A\n",
      "URLs:  62%|███████████████████████▏             | 20/32 [00:16<00:09,  1.25it/s]\u001b[A\n",
      "URLs:  66%|████████████████████████▎            | 21/32 [00:17<00:08,  1.29it/s]\u001b[A\n",
      "URLs:  69%|█████████████████████████▍           | 22/32 [00:18<00:07,  1.26it/s]\u001b[A\n",
      "URLs:  72%|██████████████████████████▌          | 23/32 [00:19<00:07,  1.24it/s]\u001b[A\n",
      "URLs:  75%|███████████████████████████▊         | 24/32 [00:19<00:06,  1.24it/s]\u001b[A\n",
      "URLs:  78%|████████████████████████████▉        | 25/32 [00:20<00:05,  1.23it/s]\u001b[A\n",
      "URLs:  81%|██████████████████████████████       | 26/32 [00:21<00:04,  1.22it/s]\u001b[A\n",
      "URLs:  84%|███████████████████████████████▏     | 27/32 [00:22<00:04,  1.21it/s]\u001b[A\n",
      "URLs:  88%|████████████████████████████████▍    | 28/32 [00:23<00:03,  1.19it/s]\u001b[A\n",
      "URLs:  91%|█████████████████████████████████▌   | 29/32 [00:24<00:02,  1.05it/s]\u001b[A\n",
      "URLs:  94%|██████████████████████████████████▋  | 30/32 [00:25<00:01,  1.09it/s]\u001b[A\n",
      "URLs:  97%|███████████████████████████████████▊ | 31/32 [00:26<00:00,  1.12it/s]\u001b[A\n",
      "URLs: 100%|█████████████████████████████████████| 32/32 [00:27<00:00,  1.18it/s]\u001b[A\n",
      "Websites: 100%|███████████████████████████████████| 1/1 [00:27<00:00, 27.73s/it]\n"
     ]
    }
   ],
   "source": [
    "if __name__ == \"__main__\":\n",
    "    #string = st.text_input('Input The Email Associated with your account')\n",
    "    #string = \"https://carpedmdating.com/\"\n",
    "    #list_of_websites = string.split()\n",
    "    list_of_websites = [\"https://drinkyoro.com/\"]\n",
    "    # list_of_websites = []\n",
    "\n",
    "    df = create_dataset(list_of_websites)"
   ]
  },
  {
   "cell_type": "code",
   "execution_count": 10,
   "id": "7402a793-f000-4e33-a01a-cbc48abf4f73",
   "metadata": {
    "tags": []
   },
   "outputs": [],
   "source": [
    "df.to_csv('yoro.csv')"
   ]
  }
 ],
 "metadata": {
  "kernelspec": {
   "display_name": "Python 3 (ipykernel)",
   "language": "python",
   "name": "python3"
  },
  "language_info": {
   "codemirror_mode": {
    "name": "ipython",
    "version": 3
   },
   "file_extension": ".py",
   "mimetype": "text/x-python",
   "name": "python",
   "nbconvert_exporter": "python",
   "pygments_lexer": "ipython3",
   "version": "3.9.15"
  }
 },
 "nbformat": 4,
 "nbformat_minor": 5
}
