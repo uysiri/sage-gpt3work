{
 "cells": [
  {
   "cell_type": "code",
   "execution_count": 6,
   "id": "a370eae4-0fd8-4652-9e6f-baf96c300a0a",
   "metadata": {
    "tags": []
   },
   "outputs": [],
   "source": [
    "# import libraries \n",
    "\n",
    "import pandas as pd\n",
    "from trafilatura.sitemaps import sitemap_search\n",
    "from tqdm import tqdm #creates a smart progress bar for loops\n",
    "from trafilatura import fetch_url, extract\n",
    "import time"
   ]
  },
  {
   "cell_type": "code",
   "execution_count": 18,
   "id": "d6b5b64b-3492-4a63-88f2-6a68924d8781",
   "metadata": {
    "tags": []
   },
   "outputs": [],
   "source": [
    "def get_urls_from_sitemap(resource_url: str) -> list:\n",
    "    \"\"\"\n",
    "    Get a list of urls from a sitemap with trafilatura\n",
    "    Call sitemap_search() with input url\n",
    "    \"\"\"\n",
    "    urls = sitemap_search(resource_url)\n",
    "    return urls"
   ]
  },
  {
   "cell_type": "code",
   "execution_count": 17,
   "id": "48269956-6e2f-4478-b7b8-24f444fcca04",
   "metadata": {
    "tags": []
   },
   "outputs": [],
   "source": [
    "def extract_article(url: str) -> dict:\n",
    "    \"\"\"\n",
    "    Extract text content from a url\n",
    "    Call fetch_url() function from trafilatura\n",
    "    Call extract() function to get text \n",
    "    \"\"\"\n",
    "    downloaded = fetch_url(url) \n",
    "    article = extract(downloaded, favor_precision=True)\n",
    "    \n",
    "    return article"
   ]
  },
  {
   "cell_type": "code",
   "execution_count": 19,
   "id": "d196666e-95c3-485f-a2e0-adfd9eaeb21a",
   "metadata": {
    "tags": []
   },
   "outputs": [],
   "source": [
    "def create_dataset(list_of_websites: list) -> pd.DataFrame:\n",
    "    \"\"\"\n",
    "    Create a dataframe from a list of sitemaps that is passed to get_urls_from_sitemap\n",
    "    Use tqdm to initiate a counter to monitor progress\n",
    "    \"\"\"\n",
    "    data = []\n",
    " \n",
    "    for website in tqdm(list_of_websites, desc=\"Websites\"):\n",
    "        urls = get_urls_from_sitemap(website)\n",
    "        for url in tqdm(urls, desc=\"URLs\"):\n",
    "            d = {\n",
    "                'url': url,\n",
    "                \"article\": extract_article(url)\n",
    "            }\n",
    "            data.append(d)\n",
    "            time.sleep(0.5)\n",
    "\n",
    "    df = pd.DataFrame(data)\n",
    "    df = df.drop_duplicates()\n",
    "    df = df.dropna()\n",
    "    # save as pandas df AND as dict\n",
    "    return df, data"
   ]
  },
  {
   "cell_type": "markdown",
   "id": "a1c00ab1-2e77-4ae1-8aa3-68e25fc7c36a",
   "metadata": {},
   "source": [
    "### Broken URLS:\n",
    "These either have empty html tree somewhere which kills my kernel and I have to restart or just returns an empty dataframe\n",
    "\n",
    "\n",
    "- https://www.fortheculturegames.us/\n",
    "- https://www.kilcommonslaw.com/\n",
    "- https://tourguidegames.com/\n",
    "- https://www.balancebound.co/\n",
    "- https://mindfulmamamentor.com/\n",
    "- https://hosthelpr.com/\n",
    "- https://coreptpilates.com/\n",
    "- https://pinotspalette.com/danville/"
   ]
  },
  {
   "cell_type": "code",
   "execution_count": 16,
   "id": "5f391f21-3bbe-46ed-85e9-8ce44b46aa6a",
   "metadata": {
    "tags": []
   },
   "outputs": [
    {
     "name": "stderr",
     "output_type": "stream",
     "text": [
      "Websites:   0%|                                           | 0/1 [00:00<?, ?it/s]\n",
      "URLs:   0%|                                              | 0/32 [00:00<?, ?it/s]\u001b[A\n",
      "URLs:   3%|█▏                                    | 1/32 [00:00<00:21,  1.44it/s]\u001b[A\n",
      "URLs:   6%|██▍                                   | 2/32 [00:01<00:20,  1.49it/s]\u001b[A\n",
      "URLs:   9%|███▌                                  | 3/32 [00:02<00:20,  1.44it/s]\u001b[A\n",
      "URLs:  12%|████▊                                 | 4/32 [00:02<00:19,  1.43it/s]\u001b[A\n",
      "URLs:  16%|█████▉                                | 5/32 [00:03<00:19,  1.40it/s]\u001b[A\n",
      "URLs:  19%|███████▏                              | 6/32 [00:04<00:18,  1.40it/s]\u001b[A\n",
      "URLs:  22%|████████▎                             | 7/32 [00:05<00:19,  1.28it/s]\u001b[A\n",
      "URLs:  25%|█████████▌                            | 8/32 [00:05<00:18,  1.33it/s]\u001b[A\n",
      "URLs:  28%|██████████▋                           | 9/32 [00:06<00:16,  1.38it/s]\u001b[A\n",
      "URLs:  31%|███████████▌                         | 10/32 [00:07<00:15,  1.41it/s]\u001b[A\n",
      "URLs:  34%|████████████▋                        | 11/32 [00:07<00:14,  1.40it/s]\u001b[A\n",
      "URLs:  38%|█████████████▉                       | 12/32 [00:08<00:13,  1.44it/s]\u001b[A\n",
      "URLs:  41%|███████████████                      | 13/32 [00:09<00:12,  1.47it/s]\u001b[A\n",
      "URLs:  44%|████████████████▏                    | 14/32 [00:10<00:14,  1.27it/s]\u001b[A\n",
      "URLs:  47%|█████████████████▎                   | 15/32 [00:10<00:12,  1.32it/s]\u001b[A\n",
      "URLs:  50%|██████████████████▌                  | 16/32 [00:11<00:11,  1.38it/s]\u001b[A\n",
      "URLs:  53%|███████████████████▋                 | 17/32 [00:12<00:10,  1.42it/s]\u001b[A\n",
      "URLs:  56%|████████████████████▊                | 18/32 [00:12<00:09,  1.44it/s]\u001b[A\n",
      "URLs:  59%|█████████████████████▉               | 19/32 [00:13<00:10,  1.27it/s]\u001b[A\n",
      "URLs:  62%|███████████████████████▏             | 20/32 [00:14<00:08,  1.34it/s]\u001b[A\n",
      "URLs:  66%|████████████████████████▎            | 21/32 [00:15<00:07,  1.40it/s]\u001b[A\n",
      "URLs:  69%|█████████████████████████▍           | 22/32 [00:15<00:07,  1.43it/s]\u001b[A\n",
      "URLs:  72%|██████████████████████████▌          | 23/32 [00:16<00:06,  1.45it/s]\u001b[A\n",
      "URLs:  75%|███████████████████████████▊         | 24/32 [00:17<00:05,  1.46it/s]\u001b[A\n",
      "URLs:  78%|████████████████████████████▉        | 25/32 [00:17<00:04,  1.48it/s]\u001b[A\n",
      "URLs:  81%|██████████████████████████████       | 26/32 [00:18<00:04,  1.45it/s]\u001b[A\n",
      "URLs:  84%|███████████████████████████████▏     | 27/32 [00:19<00:03,  1.44it/s]\u001b[A\n",
      "URLs:  88%|████████████████████████████████▍    | 28/32 [00:19<00:02,  1.45it/s]\u001b[A\n",
      "URLs:  91%|█████████████████████████████████▌   | 29/32 [00:20<00:02,  1.47it/s]\u001b[A\n",
      "URLs:  94%|██████████████████████████████████▋  | 30/32 [00:21<00:01,  1.48it/s]\u001b[A\n",
      "URLs:  97%|███████████████████████████████████▊ | 31/32 [00:21<00:00,  1.46it/s]\u001b[A\n",
      "URLs: 100%|█████████████████████████████████████| 32/32 [00:22<00:00,  1.40it/s]\u001b[A\n",
      "Websites: 100%|███████████████████████████████████| 1/1 [00:23<00:00, 23.16s/it]\n"
     ]
    }
   ],
   "source": [
    "if __name__ == \"__main__\":\n",
    "\n",
    "    list_of_websites = [\"https://drinkyoro.com/\"] # our input url\n",
    "    # can also process multiple websites at once- but may not be the best option\n",
    "    # [\"url\",\"url\"]\n",
    "\n",
    "    df, data = create_dataset(list_of_websites) # save scraped content as pandas df and dict"
   ]
  },
  {
   "cell_type": "code",
   "execution_count": 24,
   "id": "52c997c9-03fb-49c0-b8e0-051f5fdc23c4",
   "metadata": {
    "tags": []
   },
   "outputs": [
    {
     "name": "stdout",
     "output_type": "stream",
     "text": [
      "Example of first 5 rows of output as dict:\n",
      "[{'url': 'https://drinkyoro.com', 'article': \"We're interrupting your routine of dragging through the day and relying on stimulants to stay in the flow. When you pick up a can, you're choosing your state of being with our all-natural, 15 calorie drink that actually tastes good. Never ride the wave. Be the wave.\"}, {'url': 'https://drinkyoro.com/blogs/news', 'article': 'Skip to content\\nWhat is Yoro?\\nThe Flavors\\nThe Flavors\\nSurge\\nSurf\\nShop\\nShop\\nBuy Yoro\\nFitness Gear\\nAbout Us\\nWholesale\\nFAQ\\nFind A Store\\nLog in\\nWhat is Yoro?\\nThe Flavors\\nSurge\\nSurf\\nShop\\nBuy Yoro\\nFitness Gear\\nAbout Us\\nWholesale\\nFAQ\\nFind A Store\\nSearch\\nLog in\\nCart\\nItem added to your cart\\nCheck out\\nContinue shopping\\nNews\\nChoosing a selection results in a full page refresh.'}, {'url': 'https://drinkyoro.com/collections/all-products', 'article': 'Filter:\\n4 products\\nThe highest price is $60.00'}, {'url': 'https://drinkyoro.com/collections/buy-yoro', 'article': 'Filter:\\n4 products\\nThe highest price is $60.00'}, {'url': 'https://drinkyoro.com/collections/gear', 'article': 'Filter:\\n2 products\\nThe highest price is $51.00'}]\n"
     ]
    }
   ],
   "source": [
    "print(\"Example of first 5 rows of output as dict:\")\n",
    "print(data[0:5])"
   ]
  },
  {
   "cell_type": "code",
   "execution_count": 26,
   "id": "21c9f524-69fe-4a1d-b808-f29bdfd3ad68",
   "metadata": {
    "tags": []
   },
   "outputs": [
    {
     "name": "stdout",
     "output_type": "stream",
     "text": [
      "Example of first 5 rows of output as df:\n"
     ]
    },
    {
     "data": {
      "text/html": [
       "<div>\n",
       "<style scoped>\n",
       "    .dataframe tbody tr th:only-of-type {\n",
       "        vertical-align: middle;\n",
       "    }\n",
       "\n",
       "    .dataframe tbody tr th {\n",
       "        vertical-align: top;\n",
       "    }\n",
       "\n",
       "    .dataframe thead th {\n",
       "        text-align: right;\n",
       "    }\n",
       "</style>\n",
       "<table border=\"1\" class=\"dataframe\">\n",
       "  <thead>\n",
       "    <tr style=\"text-align: right;\">\n",
       "      <th></th>\n",
       "      <th>url</th>\n",
       "      <th>article</th>\n",
       "    </tr>\n",
       "  </thead>\n",
       "  <tbody>\n",
       "    <tr>\n",
       "      <th>0</th>\n",
       "      <td>https://drinkyoro.com</td>\n",
       "      <td>We're interrupting your routine of dragging th...</td>\n",
       "    </tr>\n",
       "    <tr>\n",
       "      <th>1</th>\n",
       "      <td>https://drinkyoro.com/blogs/news</td>\n",
       "      <td>Skip to content\\nWhat is Yoro?\\nThe Flavors\\nT...</td>\n",
       "    </tr>\n",
       "    <tr>\n",
       "      <th>2</th>\n",
       "      <td>https://drinkyoro.com/collections/all-products</td>\n",
       "      <td>Filter:\\n4 products\\nThe highest price is $60.00</td>\n",
       "    </tr>\n",
       "    <tr>\n",
       "      <th>3</th>\n",
       "      <td>https://drinkyoro.com/collections/buy-yoro</td>\n",
       "      <td>Filter:\\n4 products\\nThe highest price is $60.00</td>\n",
       "    </tr>\n",
       "    <tr>\n",
       "      <th>4</th>\n",
       "      <td>https://drinkyoro.com/collections/gear</td>\n",
       "      <td>Filter:\\n2 products\\nThe highest price is $51.00</td>\n",
       "    </tr>\n",
       "  </tbody>\n",
       "</table>\n",
       "</div>"
      ],
      "text/plain": [
       "                                              url  \\\n",
       "0                           https://drinkyoro.com   \n",
       "1                https://drinkyoro.com/blogs/news   \n",
       "2  https://drinkyoro.com/collections/all-products   \n",
       "3      https://drinkyoro.com/collections/buy-yoro   \n",
       "4          https://drinkyoro.com/collections/gear   \n",
       "\n",
       "                                             article  \n",
       "0  We're interrupting your routine of dragging th...  \n",
       "1  Skip to content\\nWhat is Yoro?\\nThe Flavors\\nT...  \n",
       "2   Filter:\\n4 products\\nThe highest price is $60.00  \n",
       "3   Filter:\\n4 products\\nThe highest price is $60.00  \n",
       "4   Filter:\\n2 products\\nThe highest price is $51.00  "
      ]
     },
     "execution_count": 26,
     "metadata": {},
     "output_type": "execute_result"
    }
   ],
   "source": [
    "print(\"Example of first 5 rows of output as df:\")\n",
    "df.head(5)"
   ]
  },
  {
   "cell_type": "code",
   "execution_count": 10,
   "id": "7402a793-f000-4e33-a01a-cbc48abf4f73",
   "metadata": {
    "tags": []
   },
   "outputs": [],
   "source": [
    "df.to_csv('yoro.csv')"
   ]
  }
 ],
 "metadata": {
  "kernelspec": {
   "display_name": "Python 3 (ipykernel)",
   "language": "python",
   "name": "python3"
  },
  "language_info": {
   "codemirror_mode": {
    "name": "ipython",
    "version": 3
   },
   "file_extension": ".py",
   "mimetype": "text/x-python",
   "name": "python",
   "nbconvert_exporter": "python",
   "pygments_lexer": "ipython3",
   "version": "3.9.15"
  }
 },
 "nbformat": 4,
 "nbformat_minor": 5
}
