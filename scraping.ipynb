{
 "cells": [
  {
   "cell_type": "code",
   "execution_count": 2,
   "id": "a370eae4-0fd8-4652-9e6f-baf96c300a0a",
   "metadata": {
    "tags": []
   },
   "outputs": [],
   "source": [
    "# import libraries \n",
    "\n",
    "import pandas as pd\n",
    "from trafilatura.sitemaps import sitemap_search\n",
    "from tqdm import tqdm #creates a smart progress bar for loops\n",
    "from trafilatura import fetch_url, extract\n",
    "import time"
   ]
  },
  {
   "cell_type": "code",
   "execution_count": 3,
   "id": "d6b5b64b-3492-4a63-88f2-6a68924d8781",
   "metadata": {
    "tags": []
   },
   "outputs": [],
   "source": [
    "def get_urls_from_sitemap(resource_url: str) -> list:\n",
    "    \"\"\"\n",
    "    Get a list of urls from a sitemap with trafilatura\n",
    "    Call sitemap_search() with input url\n",
    "    \"\"\"\n",
    "    urls = sitemap_search(resource_url)\n",
    "    return urls"
   ]
  },
  {
   "cell_type": "code",
   "execution_count": 4,
   "id": "48269956-6e2f-4478-b7b8-24f444fcca04",
   "metadata": {
    "tags": []
   },
   "outputs": [],
   "source": [
    "def extract_article(url: str) -> dict:\n",
    "    \"\"\"\n",
    "    Extract text content from a url\n",
    "    Call fetch_url() function from trafilatura\n",
    "    Call extract() function to get text \n",
    "    \"\"\"\n",
    "    downloaded = fetch_url(url) \n",
    "    article = extract(downloaded, favor_precision=True)\n",
    "    \n",
    "    return article"
   ]
  },
  {
   "cell_type": "code",
   "execution_count": 5,
   "id": "d196666e-95c3-485f-a2e0-adfd9eaeb21a",
   "metadata": {
    "tags": []
   },
   "outputs": [],
   "source": [
    "def create_dataset(list_of_websites: list) -> pd.DataFrame:\n",
    "    \"\"\"\n",
    "    Create a dataframe from a list of sitemaps that is passed to get_urls_from_sitemap\n",
    "    Use tqdm to initiate a counter to monitor progress\n",
    "    \"\"\"\n",
    "    data = []\n",
    " \n",
    "    for website in tqdm(list_of_websites, desc=\"Websites\"):\n",
    "        urls = get_urls_from_sitemap(website)\n",
    "        for url in tqdm(urls, desc=\"URLs\"):\n",
    "            d = {\n",
    "                'url': url,\n",
    "                \"article\": extract_article(url)\n",
    "            }\n",
    "            data.append(d)\n",
    "            time.sleep(0.5)\n",
    "\n",
    "    df = pd.DataFrame(data)\n",
    "    df = df.drop_duplicates()\n",
    "    df = df.dropna()\n",
    "    # save as pandas df AND as dict\n",
    "    return df, data"
   ]
  },
  {
   "cell_type": "code",
   "execution_count": 9,
   "id": "83d92668",
   "metadata": {},
   "outputs": [
    {
     "name": "stderr",
     "output_type": "stream",
     "text": [
      "  0%|          | 0/1 [00:00<?, ?it/s]"
     ]
    },
    {
     "data": {
      "text/plain": [
       "<tqdm.std.tqdm at 0x7fce75db0970>"
      ]
     },
     "execution_count": 9,
     "metadata": {},
     "output_type": "execute_result"
    }
   ],
   "source": [
    "list_of_websites = [\"https://hudsonhardwood.com/\"]\n",
    "tqdm(list_of_websites)"
   ]
  },
  {
   "cell_type": "markdown",
   "id": "a1c00ab1-2e77-4ae1-8aa3-68e25fc7c36a",
   "metadata": {},
   "source": [
    "### Broken URLS:\n",
    "These either have empty html tree somewhere which kills my kernel and I have to restart or just returns an empty dataframe\n",
    "\n",
    "\n",
    "- https://www.fortheculturegames.us/\n",
    "- https://www.kilcommonslaw.com/\n",
    "- https://tourguidegames.com/\n",
    "- https://www.balancebound.co/\n",
    "- https://mindfulmamamentor.com/\n",
    "- https://hosthelpr.com/\n",
    "- https://coreptpilates.com/\n",
    "- https://pinotspalette.com/danville/"
   ]
  },
  {
   "cell_type": "code",
   "execution_count": 6,
   "id": "5f391f21-3bbe-46ed-85e9-8ce44b46aa6a",
   "metadata": {
    "tags": []
   },
   "outputs": [
    {
     "name": "stderr",
     "output_type": "stream",
     "text": [
      "URLs: 100%|██████████| 217/217 [02:45<00:00,  1.31it/s]\n",
      "Websites: 100%|██████████| 1/1 [02:47<00:00, 167.23s/it]\n"
     ]
    }
   ],
   "source": [
    "if __name__ == \"__main__\":\n",
    "\n",
    "    list_of_websites = [\"https://hudsonhardwood.com/\"] # our input url\n",
    "    # can also process multiple websites at once- but may not be the best option\n",
    "    # [\"url\",\"url\"]\n",
    "\n",
    "    df, data = create_dataset(list_of_websites) # save scraped content as pandas df and dict"
   ]
  },
  {
   "cell_type": "code",
   "execution_count": 7,
   "id": "52c997c9-03fb-49c0-b8e0-051f5fdc23c4",
   "metadata": {
    "tags": []
   },
   "outputs": [
    {
     "name": "stdout",
     "output_type": "stream",
     "text": [
      "Example of first 5 rows of output as dict:\n",
      "[{'url': 'https://hudsonhardwood.com', 'article': \"Hudson Hardwood Floors\\nSpecializing in hardwood floor refinishing, restoration, and installation of wood floors and stairs in the Greater Philadelphia Area.\\nFor over 20 years Hudson Hardwood Floors has used our expertise on commercial and residential hardwood floor projects. We are known for reliable service, expert craftsmanship, and dustless sanding that has earned us 5 star reviews from our clients. Whether you need hardwood floor refinishing or a hardwood floor installation, we leave your floors looking and feeling like new.\\nWe can repair your old, worn out, and damaged wood flooring, restoring them to its original beauty. Or add warmth and classic good looks to your space with new hardwood flooring. Hudson Hardwood serves the Mainline, Philadelphia, Montgomery, Bucks, Chester County, & More!\\nHardwood Floor Services\\nWhy Choose Us?\\nTestimonials\\nAt Hudson Hardwood we pride ourselves on providing clients with the highest quality products at the highest level of service. When their floors are finished, we want our clients to say “Wow!” Visit the Testimonials page to see what past clients have said about their experiences with Hudson Hardwood.\\nWould highly recommend!!!\\nI hired Hudson Hardwood Floors to sand down and refinish the hardwood floors at my house. They look beautiful!! Additionally, Joe was very communicative and the work was completed as scheduled. Would highly recommend!!\\nPain-free remodel\\nOur floors look great! Joe was easy to get a hold of every step of the way which made for a pain-free remodel!\\nExcellent communication, fast and great work\\nGreat communication at every phase\\nJoe got everything done on time and done right. Great communication at every phase of the project. Very happy with the result.\\nDiligent, friendly, and professional\\nHudson Hardwood company has a Great service. Diligent, friendly and Professional. There was no damage or scratches on the floor. They cleaned up and asked for feedback in person. I highly recommend Hudson Hardwood company. Thay are really amazing 💪🏼!!\\nWork was completed as scheduled\\nI hired Hudson Hardwood Floors to sand down and refinish the hardwood floors at my house. They look beautiful!! Additionally, Joe was very communicative and the work was completed as scheduled. Would highly recommend!!\\nHudson Hardwood is Responsive\\nVery responsive and was able to fit us in quickly before we moved into our new home. The floors look amazing! Very happy with the job and quality of work.\\nResponsive and Punctual\\nHudson’s Hardware was responsive and punctual. They worked on a flexible timeline and helped us choose the right finish for our floors. They also kept us updated and were professional at every step of the process. I highly recommend them.\\nFloors look Beautiful\\nJoe was very responsive to my need for fast service. The floors look beautiful. I got daily texts and pictures from Joe to keep me up to date which I really appreciated.\\nGreat to work with.\\nJoe and his team were great to work with! Joe is detail-oriented and communicates with you throughout the process. Best decision we made was to call Hudson Hardwood.\\nEasy to Work With\\nJoe was extremely easy to work with. He was professional and followed through on our contract. I ended up hiring him twice because I completed the installation over several months one floor at a time. Highly recommend him.\\nExcellent communication, fast and great work, and fantastic customer service\\nGreat Work\\nJoe was extremely accommodating with my short deadline to move in. He was in constant communication about the progress of the floors and the end result was beautiful.\\nAmazing job\\nJoe did an amazing job with the floors at my new home. The floors hadn't been touched in over 40 years and he brought out their original charm. Highly recommended!!\\nWorkmanship is fantastic\\nFirst of all - Joe is the most responsive contractor that I’ve ever worked with. His workmanship is fantastic. His service is top shelf. I highly recommend them.\\nFive Stars\\nOutstanding Work\\nJoe did an amazing job with the floors at my new home. The floors hadn't been touched in over 40 years and he brought out their original charm. Highly recommended!!\\nHigh quality workmanship and outstanding service\\nGreat job at a fair price\\nGreat job at a fair price\\nAbsolute master of his craft!\\nAbsolute master of his craft! I Would recommend them to anyone.\\nFive Stars\\nVery happy\\nJoe did a great job rehabbing my stairs. He had a great vision, and it was well executed. Everything was done ontime and professionally. Very happy with my new stairs!\\nBest decision\\nJoe and his team were great to work with! Joe is detail-oriented and communicates with you throughout the process. Best decision we made was to call Hudson Hardwood.\\nBest decision we made\\nJoe and his team were great to work with! Joe is detail-oriented and communicates with you throughout the process. Best decision we made was to call Hudson Hardwood.\\nReally responsive, informative and sensitive to our unique needs\\nHighly recommend\\nJoe was extremely easy to work with. He was professional and followed through on our contract. I ended up hiring him twice because I completed the installation over several months one floor at a time. Highly recommend him to anyone.\\nProfessional Service\\nHighly professional service, excellent product. I understand why they are so busy. Was worth the wait.\\nReasonably priced\\nHudson Hardwood Floors is the best! Refinished my 100 year old pine floors to perfection. Joe Hudson is so responsive and easy to deal with. Reasonably priced. I highly recommend them.\\nMy floors are gorgeous\\nI'm very happy with my decision to use Hudson Hardwood Floors. He was reliable, fair priced, finished on time and my floors are gorgeous.\\nCustomer service was top-notch\\nJoe was very attentive during the scheduling process and his customer service was top-notch. His interest in and love for old hardwood floors was evident from the first call. Also, he answered every text within minutes of sending. Thanks Joe.\\nAmazing job on our floors\\nThank you Joe for doing an amazing job on our floors! The repairs and the new finish look great. We highly recommend Hudson Hardwood Floors\\nFive Stars\\nJob turned out beautifully\\nJoe put new hardwood floors in my home. Job turned out beautifully. Very pleased with the time frame and Joe's professionalism. Thank you.\\nBetter than expected\\nJoe was very quick in his return phone calls and started our floors right away. The floors turned out better than expected. Thank you !\\nProject Gallery\\nBrowse our before and after photos of the many hardwood floor projects we’ve completed. From clients who needed a cleaning and recoating (buff and coat), hardwood floor refinishing, wood floor sanding, old hardwood floor restoration, to those who were installing wood floors. See the amazing transformation hardwood floors can make in a home, office, or commercial building.\\nHardwood Blog\\nWhile the thought of buying hardwood floors may seem daunting, they are a beautiful addition to any home and an investment in that home’s future. With a little knowledge, you’ll be ready to move forward with getting the floors of your dreams! For tips and tricks about how to clean and care for your hardwood floors, to articles about the latest trends and styles in hardwood floors – you’ll find it all on the Hudson Hardwood blog.\\nConsidering Buying Hardwood Floors?\\nWith the many options available today it’s smart to do some homework first before you purchase hardwood floors. There are many varieties and styles available, the basics being solid or engineered planks. Solid planks come from a single piece of wood while engineered are comprised of several planks laminated or glued together.\\nLong strip, Exotic, Hand Scraped, and Distressed are terms used to describe the plank origin and the finish on the planks. Planks can come finished or unfinished. Unfinished planks allow them to be finished once they are installed, giving a more customized look.\\nDepending on the type of floor they are going over, hardwood floors can be installed in several ways. The most common is by nails or staples. Other options include glue, adhesive-less, and floating.\\nHardwood Floors Throughout the Home\\nCare and Cleaning of Hardwood Floors\\nSome people are hesitant to purchase hardwood floors because they’re afraid of the time and effort it will take to maintain them. Rest assured, hardwood floors are extremely durable. While scratches and stains can happen, there are ways to take care of them to keep your floors looking great for years.\\nHudson Hardwood recommends no harsh chemicals or cleaners. Over time these can build up and make your floors look bad. Occasionally, vinegar can help clean hardwood floors, but only in moderation.\\nScratches can also occur from moving furniture or other of life’s unforeseen happenings. Not to worry though, with a few short steps you can repair a scratch on your own. Visit our blog to see detailed instructions on “Hardwood Floor Scratch Repair.”\\nIt is, of course, a good idea to have your hardwood floors professionally cleaned and re-coated when they do eventually start to show signs of wear and tear. Hudson Hardware can help with this. Learn more on our Cleaning and Recoating page.\\nNational Wood Flooring Association Membership\\nHardwood Floors Today\\nMany of the areas we service date back to the 1800 and 1900s when hardwood floors were common in larger estates. Flooring has changed a lot since then, but hardwood floors remain top-of-the-line in home decor. Today’s technology and products gives us more hardwood flooring options than ever before to achieve the looks our customers want.\\nTraditional hardwood floors are made up of one plank size and then a consistent stain throughout. Today, consumers can choose from gray or bleached hardwood floors. Styles and patterns are even seeing a comeback including herringbone. Some customers are modernizing the look of their floors by laying planks at an angle rather than horizontally.\\nA few adventurous homeowners are even experimenting with the latest trend of mixing plank sizes. This unexpected style can add interest and depth to any room.\"}, {'url': 'https://hudsonhardwood.com/about-us/', 'article': 'Hudson Hardwood Floors specializes in refinishing, installing, cleaning, re-coating, and restoring hardwood floors & stairs. We are dedicated to bringing warmth, and appeal to residential, and commercial spaces, with the classic beauty of wood flooring.\\nFor over 20+ years Hudson Hardwood has been serving the Mainline, Philadelphia, Montgomery, Bucks, Delaware, & Chester Counties. We are a fully insured, family owned business, with an A+ Better Business Bureau rating.\\nCertified by the NWFA since 2008. Our employees are expert craftsmen that follow the National Wood Flooring Association guidelines.\\nSee why so many clients trust Hudson Hardwood.'}, {'url': 'https://hudsonhardwood.com/areas-we-serve/', 'article': 'Hudson Hardwood Floors is proud to serve the following areas in Pennsylvania:\\n- Ardmore, PA\\n- Bala Cynwyd, PA\\n- Berwyn, PA\\n- Blue Bell, PA\\n- Broommall, PA\\n- Bryn Mawr, PA\\n- Bucks County, PA\\n- Chadds Ford, PA\\n- Chestnut Hill, PA\\n- Chester County, PA\\n- Collegeville, PA\\n- Devon, PA\\n- Doylestown, PA\\n- Flourtown, PA\\n- Fort Washington, PA\\n- Gladwyne, PA\\n- Haverford, PA\\n- Havertown, PA\\n- Jenkintown, PA\\n- Kennet Square, PA\\n- King of Prussia, PA\\n- Lansdale, PA\\n- Liberties, PA\\n- Lower Gwynedd, PA\\n- Lower Merion, PA\\n- Main Line, PA\\n- Malvern, PA\\n- Manayunk, PA\\n- Media, PA\\n- Mount Airy, PA\\n- Montgomery County, PA\\n- Narberth, PA\\n- New Hope, PA\\n- Newtown Square, PA\\n- Old City, PA\\n- Paoli, PA\\n- Philadelphia, PA\\n- Phoenixville, PA\\n- Plymouth Meeting, PA\\n- Queen Village, PA\\n- Rittenhouse, PA\\n- Society Hill, PA\\n- Skippack, PA\\n- Swarthmore, PA\\n- Upper Dublin, PA\\n- Villanova, PA\\n- Washington Square, PA\\n- Wayne, PA\\n- West Chester, PA\\n- Wynnewood, PA\\n- Wyndmoor, PA'}, {'url': 'https://hudsonhardwood.com/areas-we-serve/berwyn-pa-hardwood-flooring-services/', 'article': 'Top-Notch Hardwood Flooring Services in Berwyn, PA\\nBerwyn, PA, is a great town with friendly people. Hudson Hardwood Flooring has provided top-notch flooring services in the area for more than 20 years. We’re a local company that takes pride in our work and loves to see our neighbors happy with their new floors.\\nWe offer various services, from hardwood floor refinishing to hardwood floor installation. Our team of experts can handle any type of hardwood flooring project, big, or small.\\nSo if you’re looking for wood floor refinishing, installing new floors, or just need some repairs done, Hudson Hardwood is the company for you!\\nFlooring Services We Provide:\\nHardwood Floor Refinishing:\\nIf you need wood floor refinishing in Berwyn, PA, don’t hesitate to contact a reliable company like Hudson Hardwood, when your hardwood floors start showing their age, we can refinish them and make them look new again. Also, if you have hardwood floors damaged or scratched, we can sand them down and refinish them to restore their original beauty.\\nHardwood Floor Installation:\\nWe work with top-quality hardwood floors and suppliers to achieve your desired service. We offer free consultations to help you choose the perfect type of hardwood flooring for your home or business, and then we will take care of the installation process.\\nHardwood Floor Repair:\\nIf your hardwood floors are damaged, we can repair them for you. We’ve many years of experience repairing all types of hardwood floors, so we know how to fix them quickly and efficiently.\\nWhy Choose Hudson Hardwood?\\n- We are a local, family-owned business.\\n- We have over 20 years of experience.\\n- We use the latest techniques and equipment.\\n- We offer a wide range of services.\\n- We are always professional and courteous.\\n- We offer competitive pricing.\\nThe Different Projects We’ve Worked On:\\nSchools\\nWe’ve installed hardwood floors in schools all over the area. We know how to manage and handle large projects, and we always work quickly and efficiently so that there’s minimal disruption to the school schedule.\\nBusinesses\\nWe’ve installed hardwood floors in businesses of all sizes. We have the experience and expertise to handle any business, from a small mom-and-pop shop to a large corporate office.\\nRestaurants\\nWe’ve installed hardwood floors in restaurants of all types. We know that a good floor can make a restaurant look great, and we always take care to install the floor as fast as possible so that there’s no disruption to the business.\\nGet The Best Flooring Services In Berwyn, PA At Hudson Hardwood\\nHudson Hardwood offers hardwood floor installation in Berwyn, PA, and other flooring services to commercial and residential properties.\\nWe have years of experience and a team of experts who can handle any flooring project, big, or small. Our quality workmanship and attention to detail have made us the go-to company for hardwood flooring in the area.\\nDo you need hardwood floor refinishing in Berwyn, PA? Our staff can improve the look of your house or company by providing beauty and durability to classic hardwood floorings. Call us now.'}, {'url': 'https://hudsonhardwood.com/areas-we-serve/blue-bell-pa-hardwood-flooring-services/', 'article': 'Blue Bell, PA Hardwood Flooring Services\\nBlue Bell is a place full of history that played important roles in key events of American history. At Hudson Hardwood, we’re proud to serve this community with top-notch hardwood flooring. If you need hardwood floor refinishing in Blue Bell, PA, contact Hudson Hardwood.\\nBlue Bell History\\nBlue Bell, PA, is located in Whit pain Township in Montgomery County, 15 miles from Philadelphia. The town was originally known as Pigeontown, a name given after the passenger pigeons who used to gather there in large flocks. In 1840 the town was renamed after the Blue Bell Inn, a building still used today.\\nThe Blue Bell Inn, originally called the White House, was built in 1743. It served as a stop for hunters and travelers. Today the Blue Bell Inn is still operating as a fine restaurant and gathering place for the community. It is said that Washington frequented the Blue Bell Inn.\\nHudson Hardwood in Blue Bell\\nHudson Hardwood has a team of expert craftsmen with experience bringing old hardwood floors back to life. Our services include refinishing, installing, and restoring hardwood floors. We can also simply clean and recoat floors to give them a quick and easy update. If you need wood floor refinishing in Blue Bell, PA, Hudson Hardwood is the place to go.\\nHear what owner Joe Hudson had to say about a recent project he completed in Blue Bell:\\n“The client was looking to get rid of the extra-large beveled edges of his pre-finished factory floors,” said Hudson. “Hudson Hardwood eliminated the edges, giving a better-looking finish. With the edges removed, dirt and grime can no longer collect there. At the same time, we changed the color and sheen to something more appealing to the designer’s eye.”\\nWhy Choose Hudson Hardwood?\\n- Our team is reliable\\n- We’re experts in providing all the hardwood flooring services you need.\\n- We’ll get the job done on time\\n- We’ll do the job with the least amount of interruption to your home or business.\\n- Dustless sanding for minimal mess\\n- Environmentally friendly products\\nGet The Best Hardwood Floors In Blue Bell, PA\\nHudson Hardwood is the best choice for Blue Bell, PA hardwood flooring. We have a long history of serving this community and offer top-of-the-line services. Our floors are built to last and will add value to your home or business. If you ever need hardwood floor installation in Blue Bell, PA, contact Hudson Hardwood.'}]\n"
     ]
    }
   ],
   "source": [
    "print(\"Example of first 5 rows of output as dict:\")\n",
    "print(data[0:5])"
   ]
  },
  {
   "cell_type": "code",
   "execution_count": 26,
   "id": "21c9f524-69fe-4a1d-b808-f29bdfd3ad68",
   "metadata": {
    "tags": []
   },
   "outputs": [
    {
     "name": "stdout",
     "output_type": "stream",
     "text": [
      "Example of first 5 rows of output as df:\n"
     ]
    },
    {
     "data": {
      "text/html": [
       "<div>\n",
       "<style scoped>\n",
       "    .dataframe tbody tr th:only-of-type {\n",
       "        vertical-align: middle;\n",
       "    }\n",
       "\n",
       "    .dataframe tbody tr th {\n",
       "        vertical-align: top;\n",
       "    }\n",
       "\n",
       "    .dataframe thead th {\n",
       "        text-align: right;\n",
       "    }\n",
       "</style>\n",
       "<table border=\"1\" class=\"dataframe\">\n",
       "  <thead>\n",
       "    <tr style=\"text-align: right;\">\n",
       "      <th></th>\n",
       "      <th>url</th>\n",
       "      <th>article</th>\n",
       "    </tr>\n",
       "  </thead>\n",
       "  <tbody>\n",
       "    <tr>\n",
       "      <th>0</th>\n",
       "      <td>https://drinkyoro.com</td>\n",
       "      <td>We're interrupting your routine of dragging th...</td>\n",
       "    </tr>\n",
       "    <tr>\n",
       "      <th>1</th>\n",
       "      <td>https://drinkyoro.com/blogs/news</td>\n",
       "      <td>Skip to content\\nWhat is Yoro?\\nThe Flavors\\nT...</td>\n",
       "    </tr>\n",
       "    <tr>\n",
       "      <th>2</th>\n",
       "      <td>https://drinkyoro.com/collections/all-products</td>\n",
       "      <td>Filter:\\n4 products\\nThe highest price is $60.00</td>\n",
       "    </tr>\n",
       "    <tr>\n",
       "      <th>3</th>\n",
       "      <td>https://drinkyoro.com/collections/buy-yoro</td>\n",
       "      <td>Filter:\\n4 products\\nThe highest price is $60.00</td>\n",
       "    </tr>\n",
       "    <tr>\n",
       "      <th>4</th>\n",
       "      <td>https://drinkyoro.com/collections/gear</td>\n",
       "      <td>Filter:\\n2 products\\nThe highest price is $51.00</td>\n",
       "    </tr>\n",
       "  </tbody>\n",
       "</table>\n",
       "</div>"
      ],
      "text/plain": [
       "                                              url  \\\n",
       "0                           https://drinkyoro.com   \n",
       "1                https://drinkyoro.com/blogs/news   \n",
       "2  https://drinkyoro.com/collections/all-products   \n",
       "3      https://drinkyoro.com/collections/buy-yoro   \n",
       "4          https://drinkyoro.com/collections/gear   \n",
       "\n",
       "                                             article  \n",
       "0  We're interrupting your routine of dragging th...  \n",
       "1  Skip to content\\nWhat is Yoro?\\nThe Flavors\\nT...  \n",
       "2   Filter:\\n4 products\\nThe highest price is $60.00  \n",
       "3   Filter:\\n4 products\\nThe highest price is $60.00  \n",
       "4   Filter:\\n2 products\\nThe highest price is $51.00  "
      ]
     },
     "execution_count": 26,
     "metadata": {},
     "output_type": "execute_result"
    }
   ],
   "source": [
    "print(\"Example of first 5 rows of output as df:\")\n",
    "df.head(5)"
   ]
  },
  {
   "cell_type": "code",
   "execution_count": 8,
   "id": "7402a793-f000-4e33-a01a-cbc48abf4f73",
   "metadata": {
    "tags": []
   },
   "outputs": [],
   "source": [
    "df.to_csv('hudsonhardwood.csv')"
   ]
  }
 ],
 "metadata": {
  "kernelspec": {
   "display_name": "Python 3 (ipykernel)",
   "language": "python",
   "name": "python3"
  },
  "language_info": {
   "codemirror_mode": {
    "name": "ipython",
    "version": 3
   },
   "file_extension": ".py",
   "mimetype": "text/x-python",
   "name": "python",
   "nbconvert_exporter": "python",
   "pygments_lexer": "ipython3",
   "version": "3.9.15"
  }
 },
 "nbformat": 4,
 "nbformat_minor": 5
}
